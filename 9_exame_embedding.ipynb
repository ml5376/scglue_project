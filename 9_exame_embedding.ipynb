{
 "cells": [
  {
   "cell_type": "code",
   "execution_count": 1,
   "id": "a54181c6",
   "metadata": {},
   "outputs": [
    {
     "name": "stdout",
     "output_type": "stream",
     "text": [
      "/Users/meiqiliu/PycharmProjects/GLUE3/evaluation/workflow/scripts\n"
     ]
    }
   ],
   "source": [
    "import anndata as ad\n",
    "import networkx as nx\n",
    "import scanpy as sc\n",
    "import scglue\n",
    "from itertools import chain\n",
    "from matplotlib import rcParams\n",
    "import pandas as pd\n",
    "\n",
    "import os\n",
    "print(os.getcwd())"
   ]
  },
  {
   "cell_type": "code",
   "execution_count": null,
   "id": "cde11d29",
   "metadata": {},
   "outputs": [
    {
     "name": "stdout",
     "output_type": "stream",
     "text": [
      "[INFO] fit_SCGLUE: Pretraining SCGLUE model...\n",
      "[INFO] autodevice: Using CPU as computation device.\n",
      "[INFO] check_graph: Checking variable coverage...\n",
      "[INFO] check_graph: Checking edge attributes...\n",
      "[INFO] check_graph: Checking self-loops...\n",
      "[INFO] check_graph: Checking graph symmetry...\n",
      "[INFO] SCGLUEModel: Setting `graph_batch_size` = 330\n",
      "[INFO] SCGLUEModel: Setting `max_epochs` = 1707\n",
      "[INFO] SCGLUEModel: Setting `patience` = 143\n",
      "[INFO] SCGLUEModel: Setting `reduce_lr_patience` = 72\n",
      "[INFO] SCGLUETrainer: Using training directory: \"glue/pretrain\"\n",
      "[INFO] SCGLUETrainer: [Epoch 10] train={'g_nll': 0.297, 'g_kl': 0.066, 'g_elbo': 0.363, 'x_rna_nll': 0.259, 'x_rna_kl': 0.027, 'x_rna_elbo': 0.286, 'x_atac_nll': 0.035, 'x_atac_kl': 0.012, 'x_atac_elbo': 0.048, 'dsc_loss': 0.445, 'vae_loss': 0.348, 'gen_loss': 0.326}, val={'g_nll': 0.318, 'g_kl': 0.068, 'g_elbo': 0.386, 'x_rna_nll': 0.254, 'x_rna_kl': 0.025, 'x_rna_elbo': 0.279, 'x_atac_nll': 0.041, 'x_atac_kl': 0.007, 'x_atac_elbo': 0.048, 'dsc_loss': 0.385, 'vae_loss': 0.342, 'gen_loss': 0.323}, 0.4s elapsed\n",
      "[INFO] SCGLUETrainer: [Epoch 20] train={'g_nll': 0.283, 'g_kl': 0.102, 'g_elbo': 0.386, 'x_rna_nll': 0.24, 'x_rna_kl': 0.015, 'x_rna_elbo': 0.255, 'x_atac_nll': 0.034, 'x_atac_kl': 0.013, 'x_atac_elbo': 0.047, 'dsc_loss': 0.538, 'vae_loss': 0.317, 'gen_loss': 0.29}, val={'g_nll': 0.296, 'g_kl': 0.104, 'g_elbo': 0.399, 'x_rna_nll': 0.221, 'x_rna_kl': 0.011, 'x_rna_elbo': 0.233, 'x_atac_nll': 0.038, 'x_atac_kl': 0.009, 'x_atac_elbo': 0.047, 'dsc_loss': 0.468, 'vae_loss': 0.296, 'gen_loss': 0.273}, 0.4s elapsed\n",
      "[INFO] SCGLUETrainer: [Epoch 30] train={'g_nll': 0.267, 'g_kl': 0.123, 'g_elbo': 0.39, 'x_rna_nll': 0.228, 'x_rna_kl': 0.011, 'x_rna_elbo': 0.238, 'x_atac_nll': 0.032, 'x_atac_kl': 0.009, 'x_atac_elbo': 0.042, 'dsc_loss': 0.58, 'vae_loss': 0.296, 'gen_loss': 0.267}, val={'g_nll': 0.269, 'g_kl': 0.124, 'g_elbo': 0.393, 'x_rna_nll': 0.24, 'x_rna_kl': 0.01, 'x_rna_elbo': 0.249, 'x_atac_nll': 0.033, 'x_atac_kl': 0.008, 'x_atac_elbo': 0.042, 'dsc_loss': 0.576, 'vae_loss': 0.307, 'gen_loss': 0.278}, 0.4s elapsed\n",
      "[INFO] SCGLUETrainer: [Epoch 40] train={'g_nll': 0.235, 'g_kl': 0.134, 'g_elbo': 0.369, 'x_rna_nll': 0.221, 'x_rna_kl': 0.009, 'x_rna_elbo': 0.23, 'x_atac_nll': 0.031, 'x_atac_kl': 0.008, 'x_atac_elbo': 0.04, 'dsc_loss': 0.609, 'vae_loss': 0.284, 'gen_loss': 0.253}, val={'g_nll': 0.205, 'g_kl': 0.134, 'g_elbo': 0.339, 'x_rna_nll': 0.223, 'x_rna_kl': 0.008, 'x_rna_elbo': 0.231, 'x_atac_nll': 0.04, 'x_atac_kl': 0.006, 'x_atac_elbo': 0.046, 'dsc_loss': 0.603, 'vae_loss': 0.291, 'gen_loss': 0.261}, 0.4s elapsed\n",
      "[INFO] SCGLUETrainer: [Epoch 50] train={'g_nll': 0.228, 'g_kl': 0.139, 'g_elbo': 0.367, 'x_rna_nll': 0.213, 'x_rna_kl': 0.007, 'x_rna_elbo': 0.221, 'x_atac_nll': 0.032, 'x_atac_kl': 0.006, 'x_atac_elbo': 0.038, 'dsc_loss': 0.634, 'vae_loss': 0.273, 'gen_loss': 0.241}, val={'g_nll': 0.224, 'g_kl': 0.139, 'g_elbo': 0.363, 'x_rna_nll': 0.211, 'x_rna_kl': 0.007, 'x_rna_elbo': 0.217, 'x_atac_nll': 0.038, 'x_atac_kl': 0.005, 'x_atac_elbo': 0.042, 'dsc_loss': 0.646, 'vae_loss': 0.274, 'gen_loss': 0.242}, 0.4s elapsed\n",
      "[INFO] SCGLUETrainer: [Epoch 60] train={'g_nll': 0.204, 'g_kl': 0.144, 'g_elbo': 0.348, 'x_rna_nll': 0.214, 'x_rna_kl': 0.007, 'x_rna_elbo': 0.221, 'x_atac_nll': 0.03, 'x_atac_kl': 0.005, 'x_atac_elbo': 0.035, 'dsc_loss': 0.633, 'vae_loss': 0.27, 'gen_loss': 0.238}, val={'g_nll': 0.202, 'g_kl': 0.143, 'g_elbo': 0.345, 'x_rna_nll': 0.215, 'x_rna_kl': 0.006, 'x_rna_elbo': 0.222, 'x_atac_nll': 0.038, 'x_atac_kl': 0.003, 'x_atac_elbo': 0.041, 'dsc_loss': 0.62, 'vae_loss': 0.276, 'gen_loss': 0.245}, 0.4s elapsed\n",
      "[INFO] SCGLUETrainer: [Epoch 70] train={'g_nll': 0.185, 'g_kl': 0.149, 'g_elbo': 0.334, 'x_rna_nll': 0.21, 'x_rna_kl': 0.007, 'x_rna_elbo': 0.217, 'x_atac_nll': 0.03, 'x_atac_kl': 0.004, 'x_atac_elbo': 0.034, 'dsc_loss': 0.632, 'vae_loss': 0.265, 'gen_loss': 0.233}, val={'g_nll': 0.167, 'g_kl': 0.149, 'g_elbo': 0.316, 'x_rna_nll': 0.206, 'x_rna_kl': 0.006, 'x_rna_elbo': 0.212, 'x_atac_nll': 0.036, 'x_atac_kl': 0.004, 'x_atac_elbo': 0.04, 'dsc_loss': 0.662, 'vae_loss': 0.265, 'gen_loss': 0.232}, 0.4s elapsed\n",
      "[INFO] SCGLUETrainer: [Epoch 80] train={'g_nll': 0.176, 'g_kl': 0.151, 'g_elbo': 0.327, 'x_rna_nll': 0.208, 'x_rna_kl': 0.006, 'x_rna_elbo': 0.215, 'x_atac_nll': 0.03, 'x_atac_kl': 0.004, 'x_atac_elbo': 0.034, 'dsc_loss': 0.658, 'vae_loss': 0.262, 'gen_loss': 0.229}, val={'g_nll': 0.193, 'g_kl': 0.152, 'g_elbo': 0.345, 'x_rna_nll': 0.203, 'x_rna_kl': 0.006, 'x_rna_elbo': 0.209, 'x_atac_nll': 0.035, 'x_atac_kl': 0.003, 'x_atac_elbo': 0.039, 'dsc_loss': 0.669, 'vae_loss': 0.262, 'gen_loss': 0.228}, 0.4s elapsed\n",
      "[INFO] SCGLUETrainer: [Epoch 90] train={'g_nll': 0.157, 'g_kl': 0.153, 'g_elbo': 0.311, 'x_rna_nll': 0.209, 'x_rna_kl': 0.006, 'x_rna_elbo': 0.215, 'x_atac_nll': 0.029, 'x_atac_kl': 0.004, 'x_atac_elbo': 0.033, 'dsc_loss': 0.648, 'vae_loss': 0.26, 'gen_loss': 0.228}, val={'g_nll': 0.167, 'g_kl': 0.154, 'g_elbo': 0.321, 'x_rna_nll': 0.213, 'x_rna_kl': 0.006, 'x_rna_elbo': 0.219, 'x_atac_nll': 0.037, 'x_atac_kl': 0.003, 'x_atac_elbo': 0.039, 'dsc_loss': 0.652, 'vae_loss': 0.271, 'gen_loss': 0.238}, 0.4s elapsed\n",
      "[INFO] SCGLUETrainer: [Epoch 100] train={'g_nll': 0.165, 'g_kl': 0.156, 'g_elbo': 0.322, 'x_rna_nll': 0.212, 'x_rna_kl': 0.007, 'x_rna_elbo': 0.218, 'x_atac_nll': 0.028, 'x_atac_kl': 0.004, 'x_atac_elbo': 0.032, 'dsc_loss': 0.648, 'vae_loss': 0.263, 'gen_loss': 0.231}, val={'g_nll': 0.19, 'g_kl': 0.156, 'g_elbo': 0.346, 'x_rna_nll': 0.203, 'x_rna_kl': 0.006, 'x_rna_elbo': 0.21, 'x_atac_nll': 0.038, 'x_atac_kl': 0.003, 'x_atac_elbo': 0.041, 'dsc_loss': 0.664, 'vae_loss': 0.265, 'gen_loss': 0.232}, 0.4s elapsed\n",
      "[INFO] SCGLUETrainer: [Epoch 110] train={'g_nll': 0.16, 'g_kl': 0.156, 'g_elbo': 0.317, 'x_rna_nll': 0.208, 'x_rna_kl': 0.006, 'x_rna_elbo': 0.214, 'x_atac_nll': 0.029, 'x_atac_kl': 0.004, 'x_atac_elbo': 0.033, 'dsc_loss': 0.663, 'vae_loss': 0.26, 'gen_loss': 0.227}, val={'g_nll': 0.169, 'g_kl': 0.157, 'g_elbo': 0.326, 'x_rna_nll': 0.208, 'x_rna_kl': 0.006, 'x_rna_elbo': 0.214, 'x_atac_nll': 0.035, 'x_atac_kl': 0.003, 'x_atac_elbo': 0.038, 'dsc_loss': 0.663, 'vae_loss': 0.265, 'gen_loss': 0.232}, 0.4s elapsed\n",
      "[INFO] SCGLUETrainer: [Epoch 120] train={'g_nll': 0.143, 'g_kl': 0.158, 'g_elbo': 0.301, 'x_rna_nll': 0.21, 'x_rna_kl': 0.006, 'x_rna_elbo': 0.216, 'x_atac_nll': 0.029, 'x_atac_kl': 0.004, 'x_atac_elbo': 0.033, 'dsc_loss': 0.667, 'vae_loss': 0.261, 'gen_loss': 0.228}, val={'g_nll': 0.122, 'g_kl': 0.158, 'g_elbo': 0.28, 'x_rna_nll': 0.203, 'x_rna_kl': 0.006, 'x_rna_elbo': 0.209, 'x_atac_nll': 0.036, 'x_atac_kl': 0.003, 'x_atac_elbo': 0.039, 'dsc_loss': 0.67, 'vae_loss': 0.259, 'gen_loss': 0.226}, 0.4s elapsed\n",
      "[INFO] SCGLUETrainer: [Epoch 130] train={'g_nll': 0.159, 'g_kl': 0.157, 'g_elbo': 0.316, 'x_rna_nll': 0.207, 'x_rna_kl': 0.006, 'x_rna_elbo': 0.213, 'x_atac_nll': 0.029, 'x_atac_kl': 0.004, 'x_atac_elbo': 0.033, 'dsc_loss': 0.677, 'vae_loss': 0.258, 'gen_loss': 0.225}, val={'g_nll': 0.117, 'g_kl': 0.157, 'g_elbo': 0.274, 'x_rna_nll': 0.209, 'x_rna_kl': 0.006, 'x_rna_elbo': 0.215, 'x_atac_nll': 0.032, 'x_atac_kl': 0.003, 'x_atac_elbo': 0.034, 'dsc_loss': 0.673, 'vae_loss': 0.26, 'gen_loss': 0.226}, 0.5s elapsed\n",
      "[INFO] SCGLUETrainer: [Epoch 140] train={'g_nll': 0.146, 'g_kl': 0.158, 'g_elbo': 0.304, 'x_rna_nll': 0.208, 'x_rna_kl': 0.006, 'x_rna_elbo': 0.214, 'x_atac_nll': 0.029, 'x_atac_kl': 0.004, 'x_atac_elbo': 0.033, 'dsc_loss': 0.678, 'vae_loss': 0.259, 'gen_loss': 0.225}, val={'g_nll': 0.139, 'g_kl': 0.158, 'g_elbo': 0.297, 'x_rna_nll': 0.21, 'x_rna_kl': 0.006, 'x_rna_elbo': 0.216, 'x_atac_nll': 0.037, 'x_atac_kl': 0.003, 'x_atac_elbo': 0.04, 'dsc_loss': 0.674, 'vae_loss': 0.268, 'gen_loss': 0.234}, 0.4s elapsed\n",
      "Epoch 00147: reducing learning rate of group 0 to 2.0000e-04.\n",
      "Epoch 00147: reducing learning rate of group 0 to 2.0000e-04.\n",
      "[INFO] LRScheduler: Learning rate reduction: step 1\n",
      "[INFO] SCGLUETrainer: [Epoch 150] train={'g_nll': 0.141, 'g_kl': 0.157, 'g_elbo': 0.297, 'x_rna_nll': 0.207, 'x_rna_kl': 0.006, 'x_rna_elbo': 0.213, 'x_atac_nll': 0.029, 'x_atac_kl': 0.003, 'x_atac_elbo': 0.032, 'dsc_loss': 0.676, 'vae_loss': 0.257, 'gen_loss': 0.223}, val={'g_nll': 0.108, 'g_kl': 0.157, 'g_elbo': 0.264, 'x_rna_nll': 0.205, 'x_rna_kl': 0.006, 'x_rna_elbo': 0.211, 'x_atac_nll': 0.036, 'x_atac_kl': 0.002, 'x_atac_elbo': 0.039, 'dsc_loss': 0.672, 'vae_loss': 0.26, 'gen_loss': 0.227}, 0.4s elapsed\n"
     ]
    },
    {
     "name": "stdout",
     "output_type": "stream",
     "text": [
      "[INFO] SCGLUETrainer: [Epoch 160] train={'g_nll': 0.145, 'g_kl': 0.157, 'g_elbo': 0.302, 'x_rna_nll': 0.207, 'x_rna_kl': 0.006, 'x_rna_elbo': 0.213, 'x_atac_nll': 0.029, 'x_atac_kl': 0.004, 'x_atac_elbo': 0.033, 'dsc_loss': 0.68, 'vae_loss': 0.258, 'gen_loss': 0.224}, val={'g_nll': 0.158, 'g_kl': 0.157, 'g_elbo': 0.315, 'x_rna_nll': 0.201, 'x_rna_kl': 0.006, 'x_rna_elbo': 0.206, 'x_atac_nll': 0.033, 'x_atac_kl': 0.002, 'x_atac_elbo': 0.036, 'dsc_loss': 0.67, 'vae_loss': 0.255, 'gen_loss': 0.221}, 0.4s elapsed\n",
      "[INFO] SCGLUETrainer: [Epoch 170] train={'g_nll': 0.147, 'g_kl': 0.157, 'g_elbo': 0.304, 'x_rna_nll': 0.207, 'x_rna_kl': 0.006, 'x_rna_elbo': 0.213, 'x_atac_nll': 0.028, 'x_atac_kl': 0.004, 'x_atac_elbo': 0.032, 'dsc_loss': 0.681, 'vae_loss': 0.257, 'gen_loss': 0.223}, val={'g_nll': 0.118, 'g_kl': 0.157, 'g_elbo': 0.275, 'x_rna_nll': 0.203, 'x_rna_kl': 0.006, 'x_rna_elbo': 0.209, 'x_atac_nll': 0.034, 'x_atac_kl': 0.002, 'x_atac_elbo': 0.037, 'dsc_loss': 0.663, 'vae_loss': 0.257, 'gen_loss': 0.224}, 0.4s elapsed\n",
      "[INFO] SCGLUETrainer: [Epoch 180] train={'g_nll': 0.131, 'g_kl': 0.157, 'g_elbo': 0.288, 'x_rna_nll': 0.207, 'x_rna_kl': 0.006, 'x_rna_elbo': 0.213, 'x_atac_nll': 0.029, 'x_atac_kl': 0.004, 'x_atac_elbo': 0.033, 'dsc_loss': 0.678, 'vae_loss': 0.258, 'gen_loss': 0.224}, val={'g_nll': 0.149, 'g_kl': 0.157, 'g_elbo': 0.307, 'x_rna_nll': 0.21, 'x_rna_kl': 0.006, 'x_rna_elbo': 0.216, 'x_atac_nll': 0.037, 'x_atac_kl': 0.002, 'x_atac_elbo': 0.039, 'dsc_loss': 0.664, 'vae_loss': 0.268, 'gen_loss': 0.234}, 0.4s elapsed\n",
      "[INFO] SCGLUETrainer: [Epoch 190] train={'g_nll': 0.154, 'g_kl': 0.158, 'g_elbo': 0.312, 'x_rna_nll': 0.206, 'x_rna_kl': 0.006, 'x_rna_elbo': 0.212, 'x_atac_nll': 0.028, 'x_atac_kl': 0.004, 'x_atac_elbo': 0.032, 'dsc_loss': 0.681, 'vae_loss': 0.256, 'gen_loss': 0.222}, val={'g_nll': 0.154, 'g_kl': 0.158, 'g_elbo': 0.312, 'x_rna_nll': 0.204, 'x_rna_kl': 0.006, 'x_rna_elbo': 0.21, 'x_atac_nll': 0.037, 'x_atac_kl': 0.002, 'x_atac_elbo': 0.039, 'dsc_loss': 0.673, 'vae_loss': 0.262, 'gen_loss': 0.228}, 0.4s elapsed\n",
      "[INFO] SCGLUETrainer: [Epoch 200] train={'g_nll': 0.142, 'g_kl': 0.158, 'g_elbo': 0.3, 'x_rna_nll': 0.205, 'x_rna_kl': 0.006, 'x_rna_elbo': 0.211, 'x_atac_nll': 0.029, 'x_atac_kl': 0.004, 'x_atac_elbo': 0.033, 'dsc_loss': 0.683, 'vae_loss': 0.256, 'gen_loss': 0.222}, val={'g_nll': 0.114, 'g_kl': 0.158, 'g_elbo': 0.272, 'x_rna_nll': 0.204, 'x_rna_kl': 0.006, 'x_rna_elbo': 0.21, 'x_atac_nll': 0.037, 'x_atac_kl': 0.002, 'x_atac_elbo': 0.039, 'dsc_loss': 0.678, 'vae_loss': 0.26, 'gen_loss': 0.226}, 0.4s elapsed\n",
      "[INFO] SCGLUETrainer: [Epoch 210] train={'g_nll': 0.134, 'g_kl': 0.158, 'g_elbo': 0.292, 'x_rna_nll': 0.207, 'x_rna_kl': 0.006, 'x_rna_elbo': 0.213, 'x_atac_nll': 0.028, 'x_atac_kl': 0.004, 'x_atac_elbo': 0.032, 'dsc_loss': 0.676, 'vae_loss': 0.256, 'gen_loss': 0.222}, val={'g_nll': 0.139, 'g_kl': 0.158, 'g_elbo': 0.297, 'x_rna_nll': 0.202, 'x_rna_kl': 0.006, 'x_rna_elbo': 0.208, 'x_atac_nll': 0.037, 'x_atac_kl': 0.002, 'x_atac_elbo': 0.039, 'dsc_loss': 0.666, 'vae_loss': 0.259, 'gen_loss': 0.225}, 0.4s elapsed\n",
      "[INFO] SCGLUETrainer: [Epoch 220] train={'g_nll': 0.147, 'g_kl': 0.158, 'g_elbo': 0.305, 'x_rna_nll': 0.206, 'x_rna_kl': 0.006, 'x_rna_elbo': 0.212, 'x_atac_nll': 0.027, 'x_atac_kl': 0.004, 'x_atac_elbo': 0.031, 'dsc_loss': 0.678, 'vae_loss': 0.256, 'gen_loss': 0.222}, val={'g_nll': 0.138, 'g_kl': 0.158, 'g_elbo': 0.296, 'x_rna_nll': 0.205, 'x_rna_kl': 0.006, 'x_rna_elbo': 0.211, 'x_atac_nll': 0.036, 'x_atac_kl': 0.002, 'x_atac_elbo': 0.039, 'dsc_loss': 0.672, 'vae_loss': 0.261, 'gen_loss': 0.228}, 0.4s elapsed\n",
      "[INFO] SCGLUETrainer: [Epoch 230] train={'g_nll': 0.143, 'g_kl': 0.158, 'g_elbo': 0.301, 'x_rna_nll': 0.208, 'x_rna_kl': 0.006, 'x_rna_elbo': 0.214, 'x_atac_nll': 0.027, 'x_atac_kl': 0.004, 'x_atac_elbo': 0.031, 'dsc_loss': 0.676, 'vae_loss': 0.257, 'gen_loss': 0.223}, val={'g_nll': 0.128, 'g_kl': 0.159, 'g_elbo': 0.287, 'x_rna_nll': 0.205, 'x_rna_kl': 0.006, 'x_rna_elbo': 0.211, 'x_atac_nll': 0.034, 'x_atac_kl': 0.002, 'x_atac_elbo': 0.036, 'dsc_loss': 0.665, 'vae_loss': 0.258, 'gen_loss': 0.225}, 0.4s elapsed\n",
      "[INFO] SCGLUETrainer: [Epoch 240] train={'g_nll': 0.139, 'g_kl': 0.159, 'g_elbo': 0.298, 'x_rna_nll': 0.207, 'x_rna_kl': 0.006, 'x_rna_elbo': 0.213, 'x_atac_nll': 0.028, 'x_atac_kl': 0.004, 'x_atac_elbo': 0.032, 'dsc_loss': 0.677, 'vae_loss': 0.257, 'gen_loss': 0.223}, val={'g_nll': 0.122, 'g_kl': 0.159, 'g_elbo': 0.281, 'x_rna_nll': 0.209, 'x_rna_kl': 0.006, 'x_rna_elbo': 0.215, 'x_atac_nll': 0.039, 'x_atac_kl': 0.002, 'x_atac_elbo': 0.041, 'dsc_loss': 0.672, 'vae_loss': 0.268, 'gen_loss': 0.234}, 0.4s elapsed\n",
      "[INFO] SCGLUETrainer: [Epoch 250] train={'g_nll': 0.133, 'g_kl': 0.159, 'g_elbo': 0.292, 'x_rna_nll': 0.206, 'x_rna_kl': 0.006, 'x_rna_elbo': 0.212, 'x_atac_nll': 0.028, 'x_atac_kl': 0.004, 'x_atac_elbo': 0.032, 'dsc_loss': 0.68, 'vae_loss': 0.255, 'gen_loss': 0.221}, val={'g_nll': 0.12, 'g_kl': 0.159, 'g_elbo': 0.278, 'x_rna_nll': 0.214, 'x_rna_kl': 0.006, 'x_rna_elbo': 0.22, 'x_atac_nll': 0.041, 'x_atac_kl': 0.002, 'x_atac_elbo': 0.043, 'dsc_loss': 0.672, 'vae_loss': 0.274, 'gen_loss': 0.241}, 0.5s elapsed\n",
      "[INFO] SCGLUETrainer: [Epoch 260] train={'g_nll': 0.143, 'g_kl': 0.159, 'g_elbo': 0.301, 'x_rna_nll': 0.206, 'x_rna_kl': 0.006, 'x_rna_elbo': 0.212, 'x_atac_nll': 0.029, 'x_atac_kl': 0.004, 'x_atac_elbo': 0.033, 'dsc_loss': 0.68, 'vae_loss': 0.256, 'gen_loss': 0.222}, val={'g_nll': 0.145, 'g_kl': 0.159, 'g_elbo': 0.303, 'x_rna_nll': 0.202, 'x_rna_kl': 0.006, 'x_rna_elbo': 0.208, 'x_atac_nll': 0.035, 'x_atac_kl': 0.002, 'x_atac_elbo': 0.037, 'dsc_loss': 0.663, 'vae_loss': 0.257, 'gen_loss': 0.224}, 0.4s elapsed\n",
      "[INFO] SCGLUETrainer: [Epoch 270] train={'g_nll': 0.144, 'g_kl': 0.159, 'g_elbo': 0.302, 'x_rna_nll': 0.205, 'x_rna_kl': 0.006, 'x_rna_elbo': 0.211, 'x_atac_nll': 0.027, 'x_atac_kl': 0.004, 'x_atac_elbo': 0.031, 'dsc_loss': 0.677, 'vae_loss': 0.254, 'gen_loss': 0.22}, val={'g_nll': 0.156, 'g_kl': 0.158, 'g_elbo': 0.314, 'x_rna_nll': 0.207, 'x_rna_kl': 0.006, 'x_rna_elbo': 0.213, 'x_atac_nll': 0.034, 'x_atac_kl': 0.002, 'x_atac_elbo': 0.036, 'dsc_loss': 0.662, 'vae_loss': 0.262, 'gen_loss': 0.228}, 0.4s elapsed\n",
      "[INFO] SCGLUETrainer: [Epoch 280] train={'g_nll': 0.135, 'g_kl': 0.159, 'g_elbo': 0.294, 'x_rna_nll': 0.206, 'x_rna_kl': 0.006, 'x_rna_elbo': 0.212, 'x_atac_nll': 0.029, 'x_atac_kl': 0.004, 'x_atac_elbo': 0.033, 'dsc_loss': 0.676, 'vae_loss': 0.257, 'gen_loss': 0.223}, val={'g_nll': 0.138, 'g_kl': 0.159, 'g_elbo': 0.297, 'x_rna_nll': 0.212, 'x_rna_kl': 0.006, 'x_rna_elbo': 0.218, 'x_atac_nll': 0.04, 'x_atac_kl': 0.002, 'x_atac_elbo': 0.042, 'dsc_loss': 0.669, 'vae_loss': 0.271, 'gen_loss': 0.238}, 0.4s elapsed\n",
      "Epoch 00286: reducing learning rate of group 0 to 2.0000e-05.\n",
      "Epoch 00286: reducing learning rate of group 0 to 2.0000e-05.\n",
      "[INFO] LRScheduler: Learning rate reduction: step 2\n",
      "[INFO] SCGLUETrainer: [Epoch 290] train={'g_nll': 0.137, 'g_kl': 0.159, 'g_elbo': 0.296, 'x_rna_nll': 0.206, 'x_rna_kl': 0.006, 'x_rna_elbo': 0.213, 'x_atac_nll': 0.026, 'x_atac_kl': 0.004, 'x_atac_elbo': 0.03, 'dsc_loss': 0.679, 'vae_loss': 0.254, 'gen_loss': 0.221}, val={'g_nll': 0.162, 'g_kl': 0.159, 'g_elbo': 0.32, 'x_rna_nll': 0.203, 'x_rna_kl': 0.006, 'x_rna_elbo': 0.209, 'x_atac_nll': 0.041, 'x_atac_kl': 0.002, 'x_atac_elbo': 0.043, 'dsc_loss': 0.664, 'vae_loss': 0.264, 'gen_loss': 0.231}, 0.4s elapsed\n",
      "[INFO] SCGLUETrainer: [Epoch 300] train={'g_nll': 0.132, 'g_kl': 0.159, 'g_elbo': 0.291, 'x_rna_nll': 0.208, 'x_rna_kl': 0.006, 'x_rna_elbo': 0.214, 'x_atac_nll': 0.029, 'x_atac_kl': 0.004, 'x_atac_elbo': 0.033, 'dsc_loss': 0.678, 'vae_loss': 0.258, 'gen_loss': 0.224}, val={'g_nll': 0.135, 'g_kl': 0.159, 'g_elbo': 0.293, 'x_rna_nll': 0.206, 'x_rna_kl': 0.006, 'x_rna_elbo': 0.212, 'x_atac_nll': 0.037, 'x_atac_kl': 0.002, 'x_atac_elbo': 0.039, 'dsc_loss': 0.672, 'vae_loss': 0.263, 'gen_loss': 0.229}, 0.4s elapsed\n",
      "[INFO] SCGLUETrainer: [Epoch 310] train={'g_nll': 0.149, 'g_kl': 0.159, 'g_elbo': 0.308, 'x_rna_nll': 0.206, 'x_rna_kl': 0.006, 'x_rna_elbo': 0.213, 'x_atac_nll': 0.028, 'x_atac_kl': 0.004, 'x_atac_elbo': 0.031, 'dsc_loss': 0.673, 'vae_loss': 0.256, 'gen_loss': 0.223}, val={'g_nll': 0.15, 'g_kl': 0.159, 'g_elbo': 0.309, 'x_rna_nll': 0.206, 'x_rna_kl': 0.006, 'x_rna_elbo': 0.212, 'x_atac_nll': 0.034, 'x_atac_kl': 0.002, 'x_atac_elbo': 0.036, 'dsc_loss': 0.67, 'vae_loss': 0.26, 'gen_loss': 0.227}, 0.4s elapsed\n"
     ]
    },
    {
     "name": "stdout",
     "output_type": "stream",
     "text": [
      "[INFO] SCGLUETrainer: [Epoch 320] train={'g_nll': 0.128, 'g_kl': 0.159, 'g_elbo': 0.286, 'x_rna_nll': 0.208, 'x_rna_kl': 0.006, 'x_rna_elbo': 0.215, 'x_atac_nll': 0.027, 'x_atac_kl': 0.004, 'x_atac_elbo': 0.031, 'dsc_loss': 0.679, 'vae_loss': 0.257, 'gen_loss': 0.223}, val={'g_nll': 0.124, 'g_kl': 0.159, 'g_elbo': 0.282, 'x_rna_nll': 0.208, 'x_rna_kl': 0.006, 'x_rna_elbo': 0.214, 'x_atac_nll': 0.036, 'x_atac_kl': 0.002, 'x_atac_elbo': 0.038, 'dsc_loss': 0.666, 'vae_loss': 0.263, 'gen_loss': 0.23}, 0.4s elapsed\n",
      "[INFO] SCGLUETrainer: [Epoch 330] train={'g_nll': 0.131, 'g_kl': 0.159, 'g_elbo': 0.29, 'x_rna_nll': 0.207, 'x_rna_kl': 0.006, 'x_rna_elbo': 0.214, 'x_atac_nll': 0.028, 'x_atac_kl': 0.004, 'x_atac_elbo': 0.032, 'dsc_loss': 0.681, 'vae_loss': 0.257, 'gen_loss': 0.223}, val={'g_nll': 0.167, 'g_kl': 0.159, 'g_elbo': 0.326, 'x_rna_nll': 0.198, 'x_rna_kl': 0.006, 'x_rna_elbo': 0.204, 'x_atac_nll': 0.039, 'x_atac_kl': 0.002, 'x_atac_elbo': 0.041, 'dsc_loss': 0.671, 'vae_loss': 0.257, 'gen_loss': 0.224}, 0.4s elapsed\n",
      "[INFO] SCGLUETrainer: [Epoch 340] train={'g_nll': 0.138, 'g_kl': 0.159, 'g_elbo': 0.297, 'x_rna_nll': 0.207, 'x_rna_kl': 0.006, 'x_rna_elbo': 0.213, 'x_atac_nll': 0.028, 'x_atac_kl': 0.004, 'x_atac_elbo': 0.032, 'dsc_loss': 0.68, 'vae_loss': 0.256, 'gen_loss': 0.222}, val={'g_nll': 0.133, 'g_kl': 0.159, 'g_elbo': 0.292, 'x_rna_nll': 0.205, 'x_rna_kl': 0.006, 'x_rna_elbo': 0.211, 'x_atac_nll': 0.035, 'x_atac_kl': 0.002, 'x_atac_elbo': 0.037, 'dsc_loss': 0.672, 'vae_loss': 0.26, 'gen_loss': 0.226}, 0.4s elapsed\n",
      "[INFO] SCGLUETrainer: [Epoch 350] train={'g_nll': 0.146, 'g_kl': 0.159, 'g_elbo': 0.305, 'x_rna_nll': 0.205, 'x_rna_kl': 0.006, 'x_rna_elbo': 0.211, 'x_atac_nll': 0.028, 'x_atac_kl': 0.004, 'x_atac_elbo': 0.032, 'dsc_loss': 0.684, 'vae_loss': 0.255, 'gen_loss': 0.221}, val={'g_nll': 0.141, 'g_kl': 0.159, 'g_elbo': 0.3, 'x_rna_nll': 0.199, 'x_rna_kl': 0.006, 'x_rna_elbo': 0.205, 'x_atac_nll': 0.044, 'x_atac_kl': 0.002, 'x_atac_elbo': 0.047, 'dsc_loss': 0.673, 'vae_loss': 0.263, 'gen_loss': 0.23}, 0.4s elapsed\n"
     ]
    },
    {
     "name": "stderr",
     "output_type": "stream",
     "text": [
      "2023-10-07 12:54:43,010 ignite.handlers.early_stopping.EarlyStopping INFO: EarlyStopping: Stop training\n"
     ]
    },
    {
     "name": "stdout",
     "output_type": "stream",
     "text": [
      "[INFO] EarlyStopping: Restoring checkpoint \"222\"...\n",
      "[INFO] EarlyStopping: Restoring checkpoint \"222\"...\n",
      "[INFO] fit_SCGLUE: Estimating balancing weight...\n",
      "[INFO] estimate_balancing_weight: Clustering cells...\n"
     ]
    },
    {
     "ename": "RuntimeError",
     "evalue": "module compiled against API version 0xf but this version of numpy is 0xe",
     "output_type": "error",
     "traceback": [
      "\u001b[0;31m---------------------------------------------------------------------------\u001b[0m",
      "\u001b[0;31mRuntimeError\u001b[0m                              Traceback (most recent call last)",
      "\u001b[0;31mRuntimeError\u001b[0m: module compiled against API version 0xf but this version of numpy is 0xe"
     ]
    },
    {
     "name": "stdout",
     "output_type": "stream",
     "text": [
      "[INFO] estimate_balancing_weight: Matching clusters...\n",
      "[INFO] estimate_balancing_weight: Matching array shape = (15, 14)...\n",
      "[INFO] estimate_balancing_weight: Estimating balancing weight...\n",
      "[INFO] fit_SCGLUE: Fine-tuning SCGLUE model...\n",
      "[INFO] check_graph: Checking variable coverage...\n",
      "[INFO] check_graph: Checking edge attributes...\n",
      "[INFO] check_graph: Checking self-loops...\n",
      "[INFO] check_graph: Checking graph symmetry...\n",
      "[INFO] SCGLUEModel: Setting `graph_batch_size` = 330\n",
      "[INFO] SCGLUEModel: Setting `align_burnin` = 285\n",
      "[INFO] SCGLUEModel: Setting `max_epochs` = 1707\n",
      "[INFO] SCGLUEModel: Setting `patience` = 143\n",
      "[INFO] SCGLUEModel: Setting `reduce_lr_patience` = 72\n",
      "[INFO] SCGLUETrainer: Using training directory: \"glue/fine-tune\"\n",
      "[INFO] SCGLUETrainer: [Epoch 10] train={'g_nll': 0.15, 'g_kl': 0.152, 'g_elbo': 0.302, 'x_rna_nll': 0.206, 'x_rna_kl': 0.006, 'x_rna_elbo': 0.212, 'x_atac_nll': 0.03, 'x_atac_kl': 0.003, 'x_atac_elbo': 0.033, 'dsc_loss': 0.677, 'vae_loss': 0.256, 'gen_loss': 0.223}, val={'g_nll': 0.159, 'g_kl': 0.151, 'g_elbo': 0.311, 'x_rna_nll': 0.217, 'x_rna_kl': 0.006, 'x_rna_elbo': 0.223, 'x_atac_nll': 0.033, 'x_atac_kl': 0.002, 'x_atac_elbo': 0.035, 'dsc_loss': 0.653, 'vae_loss': 0.27, 'gen_loss': 0.237}, 0.4s elapsed\n",
      "[INFO] SCGLUETrainer: [Epoch 20] train={'g_nll': 0.127, 'g_kl': 0.15, 'g_elbo': 0.277, 'x_rna_nll': 0.205, 'x_rna_kl': 0.006, 'x_rna_elbo': 0.211, 'x_atac_nll': 0.03, 'x_atac_kl': 0.003, 'x_atac_elbo': 0.033, 'dsc_loss': 0.68, 'vae_loss': 0.254, 'gen_loss': 0.22}, val={'g_nll': 0.132, 'g_kl': 0.15, 'g_elbo': 0.282, 'x_rna_nll': 0.208, 'x_rna_kl': 0.006, 'x_rna_elbo': 0.214, 'x_atac_nll': 0.025, 'x_atac_kl': 0.002, 'x_atac_elbo': 0.027, 'dsc_loss': 0.634, 'vae_loss': 0.253, 'gen_loss': 0.221}, 0.4s elapsed\n",
      "[INFO] SCGLUETrainer: [Epoch 30] train={'g_nll': 0.145, 'g_kl': 0.151, 'g_elbo': 0.296, 'x_rna_nll': 0.205, 'x_rna_kl': 0.006, 'x_rna_elbo': 0.211, 'x_atac_nll': 0.028, 'x_atac_kl': 0.003, 'x_atac_elbo': 0.031, 'dsc_loss': 0.673, 'vae_loss': 0.254, 'gen_loss': 0.22}, val={'g_nll': 0.124, 'g_kl': 0.151, 'g_elbo': 0.274, 'x_rna_nll': 0.208, 'x_rna_kl': 0.006, 'x_rna_elbo': 0.214, 'x_atac_nll': 0.031, 'x_atac_kl': 0.002, 'x_atac_elbo': 0.033, 'dsc_loss': 0.638, 'vae_loss': 0.258, 'gen_loss': 0.226}, 0.4s elapsed\n",
      "[INFO] SCGLUETrainer: [Epoch 40] train={'g_nll': 0.137, 'g_kl': 0.149, 'g_elbo': 0.286, 'x_rna_nll': 0.204, 'x_rna_kl': 0.006, 'x_rna_elbo': 0.21, 'x_atac_nll': 0.029, 'x_atac_kl': 0.003, 'x_atac_elbo': 0.032, 'dsc_loss': 0.687, 'vae_loss': 0.254, 'gen_loss': 0.22}, val={'g_nll': 0.149, 'g_kl': 0.149, 'g_elbo': 0.298, 'x_rna_nll': 0.218, 'x_rna_kl': 0.006, 'x_rna_elbo': 0.224, 'x_atac_nll': 0.032, 'x_atac_kl': 0.002, 'x_atac_elbo': 0.034, 'dsc_loss': 0.658, 'vae_loss': 0.27, 'gen_loss': 0.237}, 0.4s elapsed\n",
      "[INFO] SCGLUETrainer: [Epoch 50] train={'g_nll': 0.132, 'g_kl': 0.148, 'g_elbo': 0.28, 'x_rna_nll': 0.203, 'x_rna_kl': 0.006, 'x_rna_elbo': 0.209, 'x_atac_nll': 0.028, 'x_atac_kl': 0.003, 'x_atac_elbo': 0.03, 'dsc_loss': 0.68, 'vae_loss': 0.251, 'gen_loss': 0.217}, val={'g_nll': 0.123, 'g_kl': 0.148, 'g_elbo': 0.271, 'x_rna_nll': 0.216, 'x_rna_kl': 0.006, 'x_rna_elbo': 0.222, 'x_atac_nll': 0.028, 'x_atac_kl': 0.002, 'x_atac_elbo': 0.029, 'dsc_loss': 0.626, 'vae_loss': 0.263, 'gen_loss': 0.231}, 0.4s elapsed\n",
      "[INFO] SCGLUETrainer: [Epoch 60] train={'g_nll': 0.146, 'g_kl': 0.147, 'g_elbo': 0.293, 'x_rna_nll': 0.203, 'x_rna_kl': 0.006, 'x_rna_elbo': 0.21, 'x_atac_nll': 0.03, 'x_atac_kl': 0.003, 'x_atac_elbo': 0.033, 'dsc_loss': 0.677, 'vae_loss': 0.254, 'gen_loss': 0.22}, val={'g_nll': 0.13, 'g_kl': 0.147, 'g_elbo': 0.277, 'x_rna_nll': 0.22, 'x_rna_kl': 0.006, 'x_rna_elbo': 0.227, 'x_atac_nll': 0.032, 'x_atac_kl': 0.002, 'x_atac_elbo': 0.034, 'dsc_loss': 0.694, 'vae_loss': 0.272, 'gen_loss': 0.237}, 0.4s elapsed\n",
      "[INFO] SCGLUETrainer: [Epoch 70] train={'g_nll': 0.13, 'g_kl': 0.145, 'g_elbo': 0.275, 'x_rna_nll': 0.203, 'x_rna_kl': 0.006, 'x_rna_elbo': 0.21, 'x_atac_nll': 0.029, 'x_atac_kl': 0.003, 'x_atac_elbo': 0.032, 'dsc_loss': 0.674, 'vae_loss': 0.253, 'gen_loss': 0.219}, val={'g_nll': 0.154, 'g_kl': 0.145, 'g_elbo': 0.298, 'x_rna_nll': 0.209, 'x_rna_kl': 0.006, 'x_rna_elbo': 0.215, 'x_atac_nll': 0.031, 'x_atac_kl': 0.002, 'x_atac_elbo': 0.032, 'dsc_loss': 0.656, 'vae_loss': 0.26, 'gen_loss': 0.227}, 0.5s elapsed\n",
      "[INFO] SCGLUETrainer: [Epoch 80] train={'g_nll': 0.135, 'g_kl': 0.143, 'g_elbo': 0.278, 'x_rna_nll': 0.202, 'x_rna_kl': 0.006, 'x_rna_elbo': 0.209, 'x_atac_nll': 0.03, 'x_atac_kl': 0.003, 'x_atac_elbo': 0.033, 'dsc_loss': 0.69, 'vae_loss': 0.253, 'gen_loss': 0.219}, val={'g_nll': 0.128, 'g_kl': 0.142, 'g_elbo': 0.271, 'x_rna_nll': 0.215, 'x_rna_kl': 0.007, 'x_rna_elbo': 0.221, 'x_atac_nll': 0.033, 'x_atac_kl': 0.002, 'x_atac_elbo': 0.035, 'dsc_loss': 0.668, 'vae_loss': 0.267, 'gen_loss': 0.233}, 0.4s elapsed\n",
      "[INFO] SCGLUETrainer: [Epoch 90] train={'g_nll': 0.138, 'g_kl': 0.14, 'g_elbo': 0.278, 'x_rna_nll': 0.2, 'x_rna_kl': 0.006, 'x_rna_elbo': 0.207, 'x_atac_nll': 0.029, 'x_atac_kl': 0.003, 'x_atac_elbo': 0.032, 'dsc_loss': 0.675, 'vae_loss': 0.25, 'gen_loss': 0.216}, val={'g_nll': 0.166, 'g_kl': 0.14, 'g_elbo': 0.306, 'x_rna_nll': 0.208, 'x_rna_kl': 0.006, 'x_rna_elbo': 0.215, 'x_atac_nll': 0.032, 'x_atac_kl': 0.002, 'x_atac_elbo': 0.033, 'dsc_loss': 0.657, 'vae_loss': 0.26, 'gen_loss': 0.227}, 0.4s elapsed\n",
      "[INFO] SCGLUETrainer: [Epoch 100] train={'g_nll': 0.144, 'g_kl': 0.139, 'g_elbo': 0.283, 'x_rna_nll': 0.203, 'x_rna_kl': 0.006, 'x_rna_elbo': 0.21, 'x_atac_nll': 0.028, 'x_atac_kl': 0.003, 'x_atac_elbo': 0.031, 'dsc_loss': 0.686, 'vae_loss': 0.252, 'gen_loss': 0.218}, val={'g_nll': 0.13, 'g_kl': 0.139, 'g_elbo': 0.269, 'x_rna_nll': 0.207, 'x_rna_kl': 0.006, 'x_rna_elbo': 0.213, 'x_atac_nll': 0.035, 'x_atac_kl': 0.001, 'x_atac_elbo': 0.036, 'dsc_loss': 0.668, 'vae_loss': 0.26, 'gen_loss': 0.226}, 0.4s elapsed\n",
      "[INFO] SCGLUETrainer: [Epoch 110] train={'g_nll': 0.143, 'g_kl': 0.137, 'g_elbo': 0.28, 'x_rna_nll': 0.203, 'x_rna_kl': 0.006, 'x_rna_elbo': 0.21, 'x_atac_nll': 0.029, 'x_atac_kl': 0.003, 'x_atac_elbo': 0.032, 'dsc_loss': 0.682, 'vae_loss': 0.253, 'gen_loss': 0.219}, val={'g_nll': 0.122, 'g_kl': 0.137, 'g_elbo': 0.259, 'x_rna_nll': 0.208, 'x_rna_kl': 0.006, 'x_rna_elbo': 0.215, 'x_atac_nll': 0.028, 'x_atac_kl': 0.002, 'x_atac_elbo': 0.03, 'dsc_loss': 0.643, 'vae_loss': 0.255, 'gen_loss': 0.223}, 0.4s elapsed\n",
      "[INFO] SCGLUETrainer: [Epoch 120] train={'g_nll': 0.109, 'g_kl': 0.134, 'g_elbo': 0.243, 'x_rna_nll': 0.201, 'x_rna_kl': 0.006, 'x_rna_elbo': 0.207, 'x_atac_nll': 0.029, 'x_atac_kl': 0.003, 'x_atac_elbo': 0.032, 'dsc_loss': 0.684, 'vae_loss': 0.249, 'gen_loss': 0.215}, val={'g_nll': 0.128, 'g_kl': 0.134, 'g_elbo': 0.262, 'x_rna_nll': 0.211, 'x_rna_kl': 0.006, 'x_rna_elbo': 0.217, 'x_atac_nll': 0.028, 'x_atac_kl': 0.002, 'x_atac_elbo': 0.03, 'dsc_loss': 0.662, 'vae_loss': 0.258, 'gen_loss': 0.225}, 0.4s elapsed\n",
      "[INFO] SCGLUETrainer: [Epoch 130] train={'g_nll': 0.129, 'g_kl': 0.131, 'g_elbo': 0.261, 'x_rna_nll': 0.202, 'x_rna_kl': 0.006, 'x_rna_elbo': 0.208, 'x_atac_nll': 0.029, 'x_atac_kl': 0.003, 'x_atac_elbo': 0.032, 'dsc_loss': 0.674, 'vae_loss': 0.25, 'gen_loss': 0.217}, val={'g_nll': 0.11, 'g_kl': 0.132, 'g_elbo': 0.241, 'x_rna_nll': 0.204, 'x_rna_kl': 0.006, 'x_rna_elbo': 0.21, 'x_atac_nll': 0.031, 'x_atac_kl': 0.001, 'x_atac_elbo': 0.032, 'dsc_loss': 0.65, 'vae_loss': 0.252, 'gen_loss': 0.219}, 0.4s elapsed\n",
      "[INFO] SCGLUETrainer: [Epoch 140] train={'g_nll': 0.127, 'g_kl': 0.129, 'g_elbo': 0.256, 'x_rna_nll': 0.202, 'x_rna_kl': 0.006, 'x_rna_elbo': 0.208, 'x_atac_nll': 0.028, 'x_atac_kl': 0.003, 'x_atac_elbo': 0.031, 'dsc_loss': 0.686, 'vae_loss': 0.25, 'gen_loss': 0.215}, val={'g_nll': 0.146, 'g_kl': 0.129, 'g_elbo': 0.275, 'x_rna_nll': 0.215, 'x_rna_kl': 0.006, 'x_rna_elbo': 0.221, 'x_atac_nll': 0.041, 'x_atac_kl': 0.001, 'x_atac_elbo': 0.043, 'dsc_loss': 0.649, 'vae_loss': 0.275, 'gen_loss': 0.242}, 0.4s elapsed\n",
      "[INFO] SCGLUETrainer: [Epoch 150] train={'g_nll': 0.128, 'g_kl': 0.126, 'g_elbo': 0.254, 'x_rna_nll': 0.202, 'x_rna_kl': 0.006, 'x_rna_elbo': 0.209, 'x_atac_nll': 0.028, 'x_atac_kl': 0.003, 'x_atac_elbo': 0.031, 'dsc_loss': 0.679, 'vae_loss': 0.25, 'gen_loss': 0.216}, val={'g_nll': 0.133, 'g_kl': 0.126, 'g_elbo': 0.259, 'x_rna_nll': 0.214, 'x_rna_kl': 0.006, 'x_rna_elbo': 0.22, 'x_atac_nll': 0.028, 'x_atac_kl': 0.001, 'x_atac_elbo': 0.03, 'dsc_loss': 0.637, 'vae_loss': 0.26, 'gen_loss': 0.228}, 0.4s elapsed\n"
     ]
    },
    {
     "name": "stdout",
     "output_type": "stream",
     "text": [
      "[INFO] SCGLUETrainer: [Epoch 160] train={'g_nll': 0.14, 'g_kl': 0.124, 'g_elbo': 0.264, 'x_rna_nll': 0.203, 'x_rna_kl': 0.006, 'x_rna_elbo': 0.209, 'x_atac_nll': 0.028, 'x_atac_kl': 0.004, 'x_atac_elbo': 0.032, 'dsc_loss': 0.689, 'vae_loss': 0.251, 'gen_loss': 0.217}, val={'g_nll': 0.14, 'g_kl': 0.123, 'g_elbo': 0.264, 'x_rna_nll': 0.213, 'x_rna_kl': 0.006, 'x_rna_elbo': 0.22, 'x_atac_nll': 0.028, 'x_atac_kl': 0.001, 'x_atac_elbo': 0.03, 'dsc_loss': 0.628, 'vae_loss': 0.26, 'gen_loss': 0.228}, 0.4s elapsed\n",
      "[INFO] SCGLUETrainer: [Epoch 170] train={'g_nll': 0.126, 'g_kl': 0.12, 'g_elbo': 0.246, 'x_rna_nll': 0.202, 'x_rna_kl': 0.006, 'x_rna_elbo': 0.208, 'x_atac_nll': 0.027, 'x_atac_kl': 0.004, 'x_atac_elbo': 0.03, 'dsc_loss': 0.689, 'vae_loss': 0.249, 'gen_loss': 0.214}, val={'g_nll': 0.146, 'g_kl': 0.119, 'g_elbo': 0.265, 'x_rna_nll': 0.21, 'x_rna_kl': 0.006, 'x_rna_elbo': 0.216, 'x_atac_nll': 0.032, 'x_atac_kl': 0.001, 'x_atac_elbo': 0.033, 'dsc_loss': 0.668, 'vae_loss': 0.26, 'gen_loss': 0.227}, 0.4s elapsed\n",
      "[INFO] SCGLUETrainer: [Epoch 180] train={'g_nll': 0.126, 'g_kl': 0.117, 'g_elbo': 0.243, 'x_rna_nll': 0.202, 'x_rna_kl': 0.006, 'x_rna_elbo': 0.208, 'x_atac_nll': 0.028, 'x_atac_kl': 0.003, 'x_atac_elbo': 0.032, 'dsc_loss': 0.693, 'vae_loss': 0.249, 'gen_loss': 0.214}, val={'g_nll': 0.145, 'g_kl': 0.117, 'g_elbo': 0.262, 'x_rna_nll': 0.204, 'x_rna_kl': 0.006, 'x_rna_elbo': 0.21, 'x_atac_nll': 0.036, 'x_atac_kl': 0.001, 'x_atac_elbo': 0.037, 'dsc_loss': 0.675, 'vae_loss': 0.257, 'gen_loss': 0.224}, 0.4s elapsed\n",
      "[INFO] SCGLUETrainer: [Epoch 190] train={'g_nll': 0.142, 'g_kl': 0.115, 'g_elbo': 0.257, 'x_rna_nll': 0.203, 'x_rna_kl': 0.006, 'x_rna_elbo': 0.209, 'x_atac_nll': 0.028, 'x_atac_kl': 0.004, 'x_atac_elbo': 0.031, 'dsc_loss': 0.688, 'vae_loss': 0.251, 'gen_loss': 0.216}, val={'g_nll': 0.136, 'g_kl': 0.115, 'g_elbo': 0.251, 'x_rna_nll': 0.214, 'x_rna_kl': 0.006, 'x_rna_elbo': 0.221, 'x_atac_nll': 0.032, 'x_atac_kl': 0.001, 'x_atac_elbo': 0.033, 'dsc_loss': 0.642, 'vae_loss': 0.264, 'gen_loss': 0.232}, 0.4s elapsed\n",
      "[INFO] SCGLUETrainer: [Epoch 200] train={'g_nll': 0.128, 'g_kl': 0.113, 'g_elbo': 0.24, 'x_rna_nll': 0.202, 'x_rna_kl': 0.006, 'x_rna_elbo': 0.208, 'x_atac_nll': 0.028, 'x_atac_kl': 0.004, 'x_atac_elbo': 0.032, 'dsc_loss': 0.692, 'vae_loss': 0.25, 'gen_loss': 0.215}, val={'g_nll': 0.153, 'g_kl': 0.112, 'g_elbo': 0.265, 'x_rna_nll': 0.213, 'x_rna_kl': 0.006, 'x_rna_elbo': 0.219, 'x_atac_nll': 0.025, 'x_atac_kl': 0.001, 'x_atac_elbo': 0.027, 'dsc_loss': 0.647, 'vae_loss': 0.256, 'gen_loss': 0.224}, 0.4s elapsed\n",
      "[INFO] SCGLUETrainer: [Epoch 210] train={'g_nll': 0.143, 'g_kl': 0.11, 'g_elbo': 0.253, 'x_rna_nll': 0.201, 'x_rna_kl': 0.006, 'x_rna_elbo': 0.207, 'x_atac_nll': 0.028, 'x_atac_kl': 0.003, 'x_atac_elbo': 0.031, 'dsc_loss': 0.675, 'vae_loss': 0.249, 'gen_loss': 0.215}, val={'g_nll': 0.137, 'g_kl': 0.11, 'g_elbo': 0.247, 'x_rna_nll': 0.208, 'x_rna_kl': 0.006, 'x_rna_elbo': 0.213, 'x_atac_nll': 0.037, 'x_atac_kl': 0.001, 'x_atac_elbo': 0.039, 'dsc_loss': 0.665, 'vae_loss': 0.262, 'gen_loss': 0.229}, 0.4s elapsed\n",
      "[INFO] SCGLUETrainer: [Epoch 220] train={'g_nll': 0.151, 'g_kl': 0.108, 'g_elbo': 0.259, 'x_rna_nll': 0.2, 'x_rna_kl': 0.006, 'x_rna_elbo': 0.206, 'x_atac_nll': 0.028, 'x_atac_kl': 0.003, 'x_atac_elbo': 0.031, 'dsc_loss': 0.695, 'vae_loss': 0.248, 'gen_loss': 0.213}, val={'g_nll': 0.131, 'g_kl': 0.108, 'g_elbo': 0.239, 'x_rna_nll': 0.215, 'x_rna_kl': 0.006, 'x_rna_elbo': 0.221, 'x_atac_nll': 0.03, 'x_atac_kl': 0.001, 'x_atac_elbo': 0.032, 'dsc_loss': 0.659, 'vae_loss': 0.262, 'gen_loss': 0.229}, 0.4s elapsed\n",
      "[INFO] SCGLUETrainer: [Epoch 230] train={'g_nll': 0.133, 'g_kl': 0.106, 'g_elbo': 0.239, 'x_rna_nll': 0.203, 'x_rna_kl': 0.006, 'x_rna_elbo': 0.209, 'x_atac_nll': 0.028, 'x_atac_kl': 0.004, 'x_atac_elbo': 0.032, 'dsc_loss': 0.693, 'vae_loss': 0.251, 'gen_loss': 0.216}, val={'g_nll': 0.139, 'g_kl': 0.106, 'g_elbo': 0.245, 'x_rna_nll': 0.213, 'x_rna_kl': 0.006, 'x_rna_elbo': 0.219, 'x_atac_nll': 0.035, 'x_atac_kl': 0.001, 'x_atac_elbo': 0.036, 'dsc_loss': 0.65, 'vae_loss': 0.265, 'gen_loss': 0.233}, 0.4s elapsed\n",
      "[INFO] SCGLUETrainer: [Epoch 240] train={'g_nll': 0.125, 'g_kl': 0.105, 'g_elbo': 0.23, 'x_rna_nll': 0.201, 'x_rna_kl': 0.006, 'x_rna_elbo': 0.207, 'x_atac_nll': 0.028, 'x_atac_kl': 0.003, 'x_atac_elbo': 0.031, 'dsc_loss': 0.683, 'vae_loss': 0.247, 'gen_loss': 0.213}, val={'g_nll': 0.141, 'g_kl': 0.105, 'g_elbo': 0.246, 'x_rna_nll': 0.208, 'x_rna_kl': 0.006, 'x_rna_elbo': 0.214, 'x_atac_nll': 0.033, 'x_atac_kl': 0.001, 'x_atac_elbo': 0.034, 'dsc_loss': 0.678, 'vae_loss': 0.258, 'gen_loss': 0.224}, 0.4s elapsed\n",
      "[INFO] SCGLUETrainer: [Epoch 250] train={'g_nll': 0.136, 'g_kl': 0.103, 'g_elbo': 0.239, 'x_rna_nll': 0.202, 'x_rna_kl': 0.006, 'x_rna_elbo': 0.208, 'x_atac_nll': 0.028, 'x_atac_kl': 0.004, 'x_atac_elbo': 0.032, 'dsc_loss': 0.667, 'vae_loss': 0.249, 'gen_loss': 0.215}, val={'g_nll': 0.162, 'g_kl': 0.103, 'g_elbo': 0.265, 'x_rna_nll': 0.205, 'x_rna_kl': 0.006, 'x_rna_elbo': 0.211, 'x_atac_nll': 0.032, 'x_atac_kl': 0.001, 'x_atac_elbo': 0.034, 'dsc_loss': 0.621, 'vae_loss': 0.255, 'gen_loss': 0.224}, 0.4s elapsed\n",
      "[INFO] SCGLUETrainer: [Epoch 260] train={'g_nll': 0.135, 'g_kl': 0.101, 'g_elbo': 0.236, 'x_rna_nll': 0.203, 'x_rna_kl': 0.006, 'x_rna_elbo': 0.209, 'x_atac_nll': 0.028, 'x_atac_kl': 0.004, 'x_atac_elbo': 0.031, 'dsc_loss': 0.688, 'vae_loss': 0.249, 'gen_loss': 0.215}, val={'g_nll': 0.134, 'g_kl': 0.101, 'g_elbo': 0.235, 'x_rna_nll': 0.205, 'x_rna_kl': 0.006, 'x_rna_elbo': 0.211, 'x_atac_nll': 0.04, 'x_atac_kl': 0.001, 'x_atac_elbo': 0.042, 'dsc_loss': 0.627, 'vae_loss': 0.262, 'gen_loss': 0.231}, 0.4s elapsed\n",
      "[INFO] SCGLUETrainer: [Epoch 270] train={'g_nll': 0.131, 'g_kl': 0.1, 'g_elbo': 0.232, 'x_rna_nll': 0.203, 'x_rna_kl': 0.006, 'x_rna_elbo': 0.208, 'x_atac_nll': 0.027, 'x_atac_kl': 0.003, 'x_atac_elbo': 0.031, 'dsc_loss': 0.687, 'vae_loss': 0.248, 'gen_loss': 0.214}, val={'g_nll': 0.14, 'g_kl': 0.1, 'g_elbo': 0.24, 'x_rna_nll': 0.205, 'x_rna_kl': 0.006, 'x_rna_elbo': 0.21, 'x_atac_nll': 0.029, 'x_atac_kl': 0.001, 'x_atac_elbo': 0.031, 'dsc_loss': 0.612, 'vae_loss': 0.25, 'gen_loss': 0.22}, 0.4s elapsed\n",
      "[INFO] SCGLUETrainer: [Epoch 280] train={'g_nll': 0.134, 'g_kl': 0.098, 'g_elbo': 0.232, 'x_rna_nll': 0.202, 'x_rna_kl': 0.006, 'x_rna_elbo': 0.208, 'x_atac_nll': 0.028, 'x_atac_kl': 0.003, 'x_atac_elbo': 0.031, 'dsc_loss': 0.675, 'vae_loss': 0.249, 'gen_loss': 0.215}, val={'g_nll': 0.159, 'g_kl': 0.098, 'g_elbo': 0.257, 'x_rna_nll': 0.208, 'x_rna_kl': 0.005, 'x_rna_elbo': 0.213, 'x_atac_nll': 0.038, 'x_atac_kl': 0.001, 'x_atac_elbo': 0.039, 'dsc_loss': 0.656, 'vae_loss': 0.262, 'gen_loss': 0.23}, 0.5s elapsed\n"
     ]
    }
   ],
   "source": [
    "rna = ad.read_h5ad(\"rna-pp-seq.h5ad\")\n",
    "atac = ad.read_h5ad(\"atac-pp-seq.h5ad\")\n",
    "guidance = nx.read_graphml(\"guidance-seq.graphml.gz\")\n",
    "# rna = ad.read_h5ad(\"rna-pp2.h5ad\")\n",
    "# atac = ad.read_h5ad(\"atac-pp2.h5ad\")\n",
    "# guidance = nx.read_graphml(\"guidance2.graphml.gz\")\n",
    "scglue.models.configure_dataset(\n",
    "    rna, \"NB\", use_highly_variable=True,\n",
    "    use_layer=\"counts\", use_rep=\"X_pca\"\n",
    ")\n",
    "\n",
    "scglue.models.configure_dataset(\n",
    "    atac, \"NB\", use_highly_variable=True,\n",
    "    use_rep=\"X_lsi\"\n",
    ")\n",
    "guidance_hvf = guidance.subgraph(chain(\n",
    "    rna.var.query(\"highly_variable\").index,\n",
    "    atac.var.query(\"highly_variable\").index\n",
    ")).copy()\n",
    "\n",
    "glue = scglue.models.fit_SCGLUE(\n",
    "    {\"rna\": rna, \"atac\": atac}, guidance_hvf,\n",
    "    fit_kws={\"directory\": \"glue\"}\n",
    ")"
   ]
  },
  {
   "cell_type": "code",
   "execution_count": null,
   "id": "c4829647",
   "metadata": {},
   "outputs": [],
   "source": [
    "rna"
   ]
  },
  {
   "cell_type": "code",
   "execution_count": null,
   "id": "650d241c",
   "metadata": {},
   "outputs": [],
   "source": [
    "rna['X_umap']"
   ]
  },
  {
   "cell_type": "code",
   "execution_count": null,
   "id": "0e30d43e",
   "metadata": {},
   "outputs": [],
   "source": [
    "atac"
   ]
  },
  {
   "cell_type": "code",
   "execution_count": null,
   "id": "f93e3443",
   "metadata": {},
   "outputs": [],
   "source": [
    "rna.obsm[\"X_glue\"] = glue.encode_data(\"rna\", rna)\n",
    "atac.obsm[\"X_glue\"] = glue.encode_data(\"atac\", atac)"
   ]
  },
  {
   "cell_type": "code",
   "execution_count": null,
   "id": "4ac8686a",
   "metadata": {},
   "outputs": [],
   "source": [
    "rna.obsm[\"X_glue\"],rna.obsm[\"X_glue\"].shape"
   ]
  },
  {
   "cell_type": "code",
   "execution_count": null,
   "id": "c341166e",
   "metadata": {},
   "outputs": [],
   "source": [
    "atac.obsm[\"X_glue\"],atac.obsm[\"X_glue\"].shape"
   ]
  },
  {
   "cell_type": "code",
   "execution_count": null,
   "id": "57c40b00",
   "metadata": {},
   "outputs": [],
   "source": [
    "glue.save(\"glue-seq.dill\")"
   ]
  },
  {
   "cell_type": "code",
   "execution_count": null,
   "id": "77c11b42",
   "metadata": {},
   "outputs": [],
   "source": [
    "glue"
   ]
  },
  {
   "cell_type": "code",
   "execution_count": null,
   "id": "ae968a21",
   "metadata": {},
   "outputs": [],
   "source": [
    "!conda env export > jupyter_env.yml"
   ]
  },
  {
   "cell_type": "code",
   "execution_count": null,
   "id": "5a06fbd0",
   "metadata": {},
   "outputs": [],
   "source": []
  }
 ],
 "metadata": {
  "kernelspec": {
   "display_name": "fa_base2",
   "language": "python",
   "name": "fa_base2"
  },
  "language_info": {
   "codemirror_mode": {
    "name": "ipython",
    "version": 3
   },
   "file_extension": ".py",
   "mimetype": "text/x-python",
   "name": "python",
   "nbconvert_exporter": "python",
   "pygments_lexer": "ipython3",
   "version": "3.8.16"
  }
 },
 "nbformat": 4,
 "nbformat_minor": 5
}
