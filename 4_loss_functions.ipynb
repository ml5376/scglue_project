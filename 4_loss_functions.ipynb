{
 "cells": [
  {
   "cell_type": "code",
   "execution_count": 1,
   "metadata": {},
   "outputs": [],
   "source": [
    "import scglue.models.glue as glue\n",
    "import scglue.models.sc as sc\n",
    "from typing import List, Mapping, Optional, Tuple, Union\n",
    "import torch\n",
    "import torch.distributions as D\n",
    "import torch.nn.functional as F\n",
    "from scglue.num import EPS\n",
    "import scglue.models.data as d\n",
    "import scglue.models.scglue as sc\n",
    "import anndata as ad\n",
    "import networkx as nx\n",
    "import scglue\n",
    "\n",
    "\n",
    "\n",
    "# generate data \n",
    "rna = ad.read_h5ad(\"rna-pp2.h5ad\")\n",
    "\n",
    "atac = ad.read_h5ad(\"atac-pp2.h5ad\")\n",
    "guidance = nx.read_graphml(\"guidance2.graphml.gz\")\n",
    "\n",
    "scglue.models.configure_dataset(\n",
    "    rna, \"NB\", use_highly_variable=True,\n",
    "    use_layer=\"counts\", use_rep=\"X_pca\"\n",
    ")\n",
    "\n",
    "scglue.models.configure_dataset(\n",
    "    atac, \"NB\", use_highly_variable=True,\n",
    "    use_rep=\"X_lsi\"\n",
    ")\n",
    "adatas={\"rna\": rna, \"atac\": atac}\n"
   ]
  },
  {
   "cell_type": "code",
   "execution_count": 2,
   "metadata": {},
   "outputs": [],
   "source": [
    "import pandas as pd \n",
    "vertices=pd.Index(sorted(guidance.nodes))"
   ]
  },
  {
   "cell_type": "code",
   "execution_count": 3,
   "metadata": {},
   "outputs": [
    {
     "name": "stdout",
     "output_type": "stream",
     "text": [
      "[INFO] autodevice: Using CPU as computation device.\n",
      "['rna', 'atac']\n"
     ]
    }
   ],
   "source": [
    "pretrain_init_kws={}\n",
    "pretrain_init_kws.update({\"shared_batches\": False})\n",
    "\n",
    "\n",
    "pretrain = scglue.models.scglue.SCGLUEModel(adatas,sorted(guidance.nodes),**pretrain_init_kws)\n",
    "# print(pretrain.net)\n",
    "print(pretrain.net.keys)"
   ]
  },
  {
   "cell_type": "code",
   "execution_count": 4,
   "metadata": {},
   "outputs": [],
   "source": [
    "modalities=pretrain.modalities"
   ]
  },
  {
   "cell_type": "code",
   "execution_count": 5,
   "metadata": {},
   "outputs": [
    {
     "name": "stdout",
     "output_type": "stream",
     "text": [
      "{'directory': 'glue', 'align_burnin': inf, 'safe_burnin': False}\n"
     ]
    },
    {
     "data": {
      "text/plain": [
       "{'directory': 'glue/pretrain', 'align_burnin': inf, 'safe_burnin': False}"
      ]
     },
     "execution_count": 5,
     "metadata": {},
     "output_type": "execute_result"
    }
   ],
   "source": [
    "#pretrain.fit(adatas, graph, **pretrain_fit_kws)\n",
    "import os\n",
    "import numpy as np\n",
    "pretrain_fit_kws={'directory': 'glue'}\n",
    "pretrain_fit_kws.update({\"align_burnin\": np.inf, \"safe_burnin\": False})\n",
    "\n",
    "print(pretrain_fit_kws)\n",
    "\n",
    "if \"directory\" in pretrain_fit_kws:\n",
    "    pretrain_fit_kws[\"directory\"] = os.path.join(pretrain_fit_kws[\"directory\"], \"pretrain\")\n",
    "    \n",
    "pretrain_fit_kws"
   ]
  },
  {
   "cell_type": "code",
   "execution_count": 6,
   "metadata": {},
   "outputs": [],
   "source": [
    "#define compile_kws as empty \n",
    "compile_kws={}\n",
    "pretrain.compile(**compile_kws)"
   ]
  },
  {
   "cell_type": "code",
   "execution_count": 7,
   "metadata": {},
   "outputs": [],
   "source": [
    "#define dataloader and Anndata\n",
    "from scglue.models.data import AnnDataset, ArrayDataset, DataLoader, GraphDataset\n",
    "\n",
    "anndata = AnnDataset(\n",
    "            [adatas[key] for key in pretrain.net.keys],\n",
    "            [modalities[key] for key in pretrain.net.keys],\n",
    "            mode=\"train\"\n",
    "        )\n",
    "\n",
    "data_loader = DataLoader( #three elements: x, xrep, _\n",
    "            anndata, batch_size=128,\n",
    "            shuffle=False, drop_last=False\n",
    "        )\n",
    "data_config2=anndata._data_configs\n"
   ]
  },
  {
   "cell_type": "code",
   "execution_count": 8,
   "metadata": {},
   "outputs": [],
   "source": [
    "\n",
    "#compute_losses \n",
    "lam_data=1\n",
    "lam_kl=1.0\n",
    "lam_graph=0.02\n",
    "lam_align=0.05\n",
    "lam_sup=0.02\n",
    "modality_weight={'rna': 1.0, 'atac': 1.0}\n",
    "normalize_u=False\n",
    "lr=0.002\n",
    "optim=str(\"RMSprop\")\n",
    "#train_step \n",
    "from scglue.models.scglue import SCGLUETrainer\n",
    "import torch.optim as optim \n",
    "\n",
    "'''\n",
    "net: SCGLUE, lam_data: float = None, lam_kl: float = None,\n",
    "            lam_graph: float = None, lam_align: float = None,\n",
    "            lam_sup: float = None, normalize_u: bool = None,\n",
    "            modality_weight: Mapping[str, float] = None,\n",
    "            optim: str = None, lr: float = None,'''\n",
    "\n",
    "trainer=SCGLUETrainer(pretrain.net,lam_data,lam_kl,lam_graph,lam_align,lam_sup,normalize_u,modality_weight,\"RMSprop\",lr)\n"
   ]
  },
  {
   "cell_type": "code",
   "execution_count": 9,
   "metadata": {},
   "outputs": [],
   "source": [
    "xuid, (x, xrep, xbch, xlbl, xdwt)=anndata._extract_data_train(data_config2)\n",
    "extracted_data=anndata._extract_data_train(data_config2)"
   ]
  },
  {
   "cell_type": "code",
   "execution_count": 10,
   "metadata": {},
   "outputs": [
    {
     "name": "stdout",
     "output_type": "stream",
     "text": [
      "11\n",
      "torch.Size([128, 12434])\n",
      "()\n"
     ]
    },
    {
     "ename": "ValueError",
     "evalue": "not enough values to unpack (expected 3, got 0)",
     "output_type": "error",
     "traceback": [
      "\u001b[0;31m---------------------------------------------------------------------------\u001b[0m",
      "\u001b[0;31mValueError\u001b[0m                                Traceback (most recent call last)",
      "Cell \u001b[0;32mIn[10], line 14\u001b[0m\n\u001b[1;32m     11\u001b[0m     \u001b[38;5;28mprint\u001b[39m(data[\u001b[38;5;241m11\u001b[39m:])\n\u001b[1;32m     13\u001b[0m \u001b[38;5;66;03m#     data2=trainer.format_data(data)\u001b[39;00m\n\u001b[0;32m---> 14\u001b[0m     x, xrep, xbch, xlbl, xdwt, (eidx, ewt, esgn) \u001b[38;5;241m=\u001b[39m \\\n\u001b[1;32m     15\u001b[0m             data[\u001b[38;5;241m0\u001b[39m:K], data[K:\u001b[38;5;241m2\u001b[39m\u001b[38;5;241m*\u001b[39mK], data[\u001b[38;5;241m2\u001b[39m\u001b[38;5;241m*\u001b[39mK:\u001b[38;5;241m3\u001b[39m\u001b[38;5;241m*\u001b[39mK], data[\u001b[38;5;241m3\u001b[39m\u001b[38;5;241m*\u001b[39mK:\u001b[38;5;241m4\u001b[39m\u001b[38;5;241m*\u001b[39mK], data[\u001b[38;5;241m4\u001b[39m\u001b[38;5;241m*\u001b[39mK:\u001b[38;5;241m5\u001b[39m\u001b[38;5;241m*\u001b[39mK], \\\n\u001b[1;32m     16\u001b[0m             data[\u001b[38;5;241m5\u001b[39m\u001b[38;5;241m*\u001b[39mK\u001b[38;5;241m+\u001b[39m\u001b[38;5;241m1\u001b[39m:]\n\u001b[1;32m     19\u001b[0m     \u001b[38;5;28;01mbreak\u001b[39;00m\n",
      "\u001b[0;31mValueError\u001b[0m: not enough values to unpack (expected 3, got 0)"
     ]
    }
   ],
   "source": [
    "K=len(pretrain.net.keys)\n",
    "#get x,xrep,xbch,xlbl,xdwt \n",
    "for data in data_loader:\n",
    "    print(len(data))\n",
    "#     print(data[2:4])\n",
    "    x=data[0:2]\n",
    "    print(x[1].shape)\n",
    "    xrep=data[2:4]\n",
    "    xbch=data[4:6]\n",
    "    xlbl=data[6:8]\n",
    "    xdwt=data[8:10]\n",
    "    print(data[11:])\n",
    "\n",
    "#     data2=trainer.format_data(data)\n",
    "    x, xrep, xbch, xlbl, xdwt, (eidx, ewt, esgn) = \\\n",
    "            data[0:K], data[K:2*K], data[2*K:3*K], data[3*K:4*K], data[4*K:5*K], \\\n",
    "            data[5*K+1:]\n",
    "    \n",
    "    \n",
    "    break"
   ]
  },
  {
   "cell_type": "code",
   "execution_count": null,
   "metadata": {},
   "outputs": [],
   "source": [
    "# anndata"
   ]
  },
  {
   "cell_type": "code",
   "execution_count": null,
   "metadata": {},
   "outputs": [],
   "source": [
    "# from scglue.models.data import GraphDataset \n",
    "# gdata=GraphDataset(guidance,vertices)"
   ]
  },
  {
   "cell_type": "code",
   "execution_count": null,
   "metadata": {},
   "outputs": [],
   "source": [
    "\n",
    "# graph = GraphDataset(\n",
    "#             guidance, vertices, neg_samples=10,\n",
    "#             weighted_sampling=True, deemphasize_loops=True\n",
    "#         )\n"
   ]
  },
  {
   "cell_type": "code",
   "execution_count": 11,
   "metadata": {},
   "outputs": [],
   "source": [
    "neg_samples=10\n",
    "graph2 = GraphDataset(\n",
    "            guidance, vertices, neg_samples=neg_samples,\n",
    "            weighted_sampling=True, deemphasize_loops=True\n",
    "        )\n",
    "# gluetrainer.fit(data=anndata,graph2)\n"
   ]
  },
  {
   "cell_type": "code",
   "execution_count": null,
   "metadata": {},
   "outputs": [],
   "source": [
    "# for g in graph:\n",
    "#     print(len(g))\n",
    "#     break"
   ]
  },
  {
   "cell_type": "code",
   "execution_count": 19,
   "metadata": {},
   "outputs": [
    {
     "data": {
      "text/plain": [
       "torch.Size([590267])"
      ]
     },
     "execution_count": 19,
     "metadata": {},
     "output_type": "execute_result"
    }
   ],
   "source": [
    "enorm.shape\n",
    "# graph2.ewt"
   ]
  },
  {
   "cell_type": "code",
   "execution_count": null,
   "metadata": {},
   "outputs": [],
   "source": [
    "adatas"
   ]
  },
  {
   "cell_type": "code",
   "execution_count": 23,
   "metadata": {},
   "outputs": [
    {
     "name": "stdout",
     "output_type": "stream",
     "text": [
      "[INFO] SCGLUETrainer: Using training directory: \"/var/folders/12/d54y_pk95zdbftjg_qkcj_c80000gq/T/GLUETMPpmupm578\"\n",
      "[INFO] EarlyStopping: No usable checkpoint found. Skipping checkpoint restoration.\n"
     ]
    }
   ],
   "source": [
    "\n",
    "trainer.fit(anndata,graph2,0.1,128,13106,float('inf'),True,2,28,14,1,0)\n",
    "#val_split=0.1, data_batch_size 128, graph_batch_size 13106, align_burnin:inf, max_epochs:2"
   ]
  },
  {
   "cell_type": "code",
   "execution_count": 48,
   "metadata": {},
   "outputs": [
    {
     "name": "stdout",
     "output_type": "stream",
     "text": [
      "tensor([[ 28191,  28191,  28191,  ..., 165704, 179704,  66235],\n",
      "        [142910, 142912, 142914,  ..., 165704, 179704,  66235]])\n",
      "tensor(1.)\n",
      "tensor([1., 1., 1.,  ..., 1., 1., 1.])\n",
      "590267\n"
     ]
    },
    {
     "data": {
      "text/plain": [
       "tensor([1., 1., 1.,  ..., 1., 1., 1.])"
      ]
     },
     "execution_count": 48,
     "metadata": {},
     "output_type": "execute_result"
    }
   ],
   "source": [
    "from scglue.num import normalize_edges \n",
    "enorm = torch.as_tensor(\n",
    "            normalize_edges(graph2.eidx, graph2.ewt),\n",
    "        )\n",
    "esgn=torch.as_tensor(graph2.esgn)\n",
    "eidx=torch.as_tensor(graph2.eidx)\n",
    "ewt=torch.as_tensor(graph2.ewt)\n",
    "print(eidx)\n",
    "trainer.eidx=eidx \n",
    "trainer.enorm=enorm\n",
    "trainer.esgn=esgn\n",
    "print(esgn[1])\n",
    "print(esgn)\n",
    "print(len(eidx[1]))\n",
    "esgn"
   ]
  },
  {
   "cell_type": "code",
   "execution_count": 41,
   "metadata": {},
   "outputs": [
    {
     "name": "stdout",
     "output_type": "stream",
     "text": [
      "[tensor([249617,  90600,  48241,  ..., 108604,  25272, 178207]), tensor([ 28299, 134766,  24836,  ..., 186945,  24267,   4718])]\n",
      "3276 tensor([0., 0., 0.,  ..., 0., 0., 0.])\n",
      "tensor([1., 1., 1.,  ..., 1., 1., 1.])\n",
      "tensor([0., 0., 0.,  ..., 0., 0., 0.])\n"
     ]
    }
   ],
   "source": [
    "from itertools import chain\n",
    "\n",
    "for gdata in graph2:\n",
    "#     print(len(gdata))\n",
    "    eidx=gdata[0:1]\n",
    "    eidx=list(chain.from_iterable(eidx))\n",
    "    ewt=gdata[1:2][0]\n",
    "#     ewt=list(chain.from_iterable(ewt))\n",
    "    esgn=gdata[2:3][0]\n",
    "#     esgn=list(chain.from_iterable(esgn))\n",
    "    print(eidx)\n",
    "    print(len(ewt),ewt)\n",
    "    break\n",
    "print(esgn)# one list not two \n",
    "print(ewt)# one list not two\n"
   ]
  },
  {
   "cell_type": "code",
   "execution_count": 24,
   "metadata": {},
   "outputs": [
    {
     "name": "stdout",
     "output_type": "stream",
     "text": [
      "3276\n",
      "3276\n"
     ]
    }
   ],
   "source": [
    "print(len(eidx[0]))\n",
    "for i in ewt:\n",
    "    print(len(i))"
   ]
  },
  {
   "cell_type": "code",
   "execution_count": 101,
   "metadata": {},
   "outputs": [
    {
     "name": "stdout",
     "output_type": "stream",
     "text": [
      "tensor([142910, 142912, 142914,  ..., 165704, 179704,  66235])\n"
     ]
    },
    {
     "data": {
      "text/plain": [
       "tensor([ 28191,  28191,  28191,  ..., 165704, 179704,  66235])"
      ]
     },
     "execution_count": 101,
     "metadata": {},
     "output_type": "execute_result"
    }
   ],
   "source": [
    "print(eidx[1])\n",
    "eidx[0]\n"
   ]
  },
  {
   "cell_type": "code",
   "execution_count": 108,
   "metadata": {},
   "outputs": [
    {
     "name": "stdout",
     "output_type": "stream",
     "text": [
      "14\n"
     ]
    }
   ],
   "source": [
    "from itertools import chain\n",
    "# x, xrep, xbch, xlbl, xdwt, (eidx, ewt, esgn)\n",
    "data_list=[]\n",
    "data_list.append(x[0])#1\n",
    "data_list.append(x[1])#1\n",
    "data_list.append(xrep[0])#2\n",
    "data_list.append(xrep[1])#2\n",
    "data_list.append(xbch[0])#3\n",
    "data_list.append(xbch[1])#3\n",
    "data_list.append(xlbl[0])#4\n",
    "data_list.append(xlbl[1])#4\n",
    "data_list.append(xdwt[0])#5\n",
    "data_list.append(xdwt[1])#5\n",
    "# data_list.append(pmsk)#6\n",
    "data_list.append(eidx)#7 have to append eidx two times in order to include both eidx[0] and eidx[1]\n",
    "data_list.append(eidx)#7\n",
    "data_list.append(ewt)#8\n",
    "\n",
    "data_list.append(esgn)#9\n",
    "# data_list.append(esgn[1])#9\n",
    "\n",
    "# data_list=list(chain.from_iterable(data_list))\n",
    "print(len(data_list))"
   ]
  },
  {
   "cell_type": "code",
   "execution_count": 106,
   "metadata": {},
   "outputs": [
    {
     "data": {
      "text/plain": [
       "[tensor([[0., 0., 0.,  ..., 0., 0., 0.],\n",
       "         [0., 0., 0.,  ..., 0., 0., 0.],\n",
       "         [0., 0., 0.,  ..., 0., 0., 0.],\n",
       "         ...,\n",
       "         [0., 0., 0.,  ..., 0., 0., 0.],\n",
       "         [0., 0., 0.,  ..., 0., 0., 0.],\n",
       "         [0., 0., 0.,  ..., 0., 0., 0.]]),\n",
       " tensor([[0., 0., 0.,  ..., 0., 0., 0.],\n",
       "         [0., 0., 0.,  ..., 0., 0., 0.],\n",
       "         [0., 0., 0.,  ..., 0., 0., 0.],\n",
       "         ...,\n",
       "         [0., 0., 0.,  ..., 0., 0., 0.],\n",
       "         [0., 0., 0.,  ..., 0., 0., 0.],\n",
       "         [0., 0., 0.,  ..., 0., 0., 0.]])]"
      ]
     },
     "execution_count": 106,
     "metadata": {},
     "output_type": "execute_result"
    }
   ],
   "source": [
    "x"
   ]
  },
  {
   "cell_type": "code",
   "execution_count": 103,
   "metadata": {},
   "outputs": [
    {
     "data": {
      "text/plain": [
       "tensor(1.)"
      ]
     },
     "execution_count": 103,
     "metadata": {},
     "output_type": "execute_result"
    }
   ],
   "source": [
    "esgn[0]\n",
    "ewt[0]"
   ]
  },
  {
   "cell_type": "code",
   "execution_count": 98,
   "metadata": {},
   "outputs": [
    {
     "data": {
      "text/plain": [
       "[tensor([142910, 142912, 142914,  ..., 165704, 179704,  66235]),\n",
       " tensor([1., 1., 1.,  ..., 1., 1., 1.]),\n",
       " tensor([1., 1., 1.,  ..., 1., 1., 1.])]"
      ]
     },
     "execution_count": 98,
     "metadata": {},
     "output_type": "execute_result"
    }
   ],
   "source": [
    "data_list[11:]"
   ]
  },
  {
   "cell_type": "code",
   "execution_count": 90,
   "metadata": {},
   "outputs": [
    {
     "data": {
      "text/plain": [
       "torch.Size([2, 590267])"
      ]
     },
     "execution_count": 90,
     "metadata": {},
     "output_type": "execute_result"
    }
   ],
   "source": [
    "sidx, tidx = eidx\n",
    "eidx.shape"
   ]
  },
  {
   "cell_type": "code",
   "execution_count": 74,
   "metadata": {},
   "outputs": [
    {
     "ename": "ValueError",
     "evalue": "not enough values to unpack (expected 6, got 5)",
     "output_type": "error",
     "traceback": [
      "\u001b[0;31m---------------------------------------------------------------------------\u001b[0m",
      "\u001b[0;31mValueError\u001b[0m                                Traceback (most recent call last)",
      "Cell \u001b[0;32mIn[74], line 2\u001b[0m\n\u001b[1;32m      1\u001b[0m K\u001b[38;5;241m=\u001b[39m\u001b[38;5;241m2\u001b[39m\n\u001b[0;32m----> 2\u001b[0m x, xrep, xbch, xlbl, xdwt, (eidx, ewt, esgn) \u001b[38;5;241m=\u001b[39m \\\n\u001b[1;32m      3\u001b[0m    data_list[\u001b[38;5;241m0\u001b[39m:K], data_list[K:\u001b[38;5;241m2\u001b[39m\u001b[38;5;241m*\u001b[39mK], data_list[\u001b[38;5;241m2\u001b[39m\u001b[38;5;241m*\u001b[39mK:\u001b[38;5;241m3\u001b[39m\u001b[38;5;241m*\u001b[39mK], data_list[\u001b[38;5;241m3\u001b[39m\u001b[38;5;241m*\u001b[39mK:\u001b[38;5;241m4\u001b[39m\u001b[38;5;241m*\u001b[39mK], data_list[\u001b[38;5;241m4\u001b[39m\u001b[38;5;241m*\u001b[39mK:\u001b[38;5;241m5\u001b[39m\u001b[38;5;241m*\u001b[39mK], \\\n\u001b[1;32m      4\u001b[0m \u001b[38;5;66;03m#      data_list[5*K+1:]\u001b[39;00m\n",
      "\u001b[0;31mValueError\u001b[0m: not enough values to unpack (expected 6, got 5)"
     ]
    }
   ],
   "source": [
    "# K=2\n",
    "# x, xrep, xbch, xlbl, xdwt, (eidx, ewt, esgn) = \\\n",
    "#    data_list[0:K], data_list[K:2*K], data_list[2*K:3*K], data_list[3*K:4*K], data_list[4*K:5*K], \\\n",
    "#      data_list[5*K+1:]"
   ]
  },
  {
   "cell_type": "code",
   "execution_count": 109,
   "metadata": {},
   "outputs": [
    {
     "data": {
      "text/plain": [
       "({'rna': tensor([[0., 0., 0.,  ..., 0., 0., 0.],\n",
       "          [0., 0., 0.,  ..., 0., 0., 0.],\n",
       "          [0., 0., 0.,  ..., 0., 0., 0.],\n",
       "          ...,\n",
       "          [0., 0., 0.,  ..., 0., 0., 0.],\n",
       "          [0., 0., 0.,  ..., 0., 0., 0.],\n",
       "          [0., 0., 0.,  ..., 0., 0., 0.]]),\n",
       "  'atac': tensor([[0., 0., 0.,  ..., 0., 0., 0.],\n",
       "          [0., 0., 0.,  ..., 0., 0., 0.],\n",
       "          [0., 0., 0.,  ..., 0., 0., 0.],\n",
       "          ...,\n",
       "          [0., 0., 0.,  ..., 0., 0., 0.],\n",
       "          [0., 0., 0.,  ..., 0., 0., 0.],\n",
       "          [0., 0., 0.,  ..., 0., 0., 0.]])},\n",
       " {'rna': tensor([[ 3.4848e+00,  1.1419e+01,  9.0474e+00,  ..., -5.3635e+00,\n",
       "            1.6005e-01, -1.2033e+00],\n",
       "          [ 1.9448e-01, -4.5760e-01,  1.2121e+00,  ...,  7.5727e-02,\n",
       "           -1.0081e-02, -4.6408e-02],\n",
       "          [-1.4876e+00, -2.0016e+00,  1.0567e+00,  ..., -2.0454e-01,\n",
       "            2.3666e-01, -3.0249e-01],\n",
       "          ...,\n",
       "          [-1.8596e+00, -1.6021e+00,  7.4491e-02,  ...,  1.5663e-01,\n",
       "            7.0951e-01,  2.2479e-01],\n",
       "          [ 4.1313e-02,  6.0275e+00, -8.8975e+00,  ...,  2.0969e-01,\n",
       "            9.8268e-01,  1.3717e-01],\n",
       "          [-1.6530e+00, -1.8995e+00, -1.0258e+00,  ..., -2.0627e-01,\n",
       "           -4.8322e-01,  8.0901e-01]]),\n",
       "  'atac': tensor([[ 0.8589, -0.9794, -0.4014,  ...,  1.0603,  1.2218, -0.5794],\n",
       "          [ 1.6716, -0.6445, -1.5923,  ...,  0.4064,  1.3810,  2.6099],\n",
       "          [ 1.3397, -1.0625,  0.1869,  ..., -0.3141, -0.6978, -1.5565],\n",
       "          ...,\n",
       "          [ 1.2035, -0.0442,  1.0764,  ..., -1.1348,  0.9849, -0.4519],\n",
       "          [ 1.1898,  2.2082,  1.2882,  ...,  0.9998, -2.0033,  1.0474],\n",
       "          [ 1.1905,  2.5761,  0.7098,  ..., -0.4443,  0.0243, -0.3719]])},\n",
       " {'rna': tensor([0, 0, 0, 0, 0, 0, 0, 0, 0, 0, 0, 0, 0, 0, 0, 0, 0, 0, 0, 0, 0, 0, 0, 0,\n",
       "          0, 0, 0, 0, 0, 0, 0, 0, 0, 0, 0, 0, 0, 0, 0, 0, 0, 0, 0, 0, 0, 0, 0, 0,\n",
       "          0, 0, 0, 0, 0, 0, 0, 0, 0, 0, 0, 0, 0, 0, 0, 0, 0, 0, 0, 0, 0, 0, 0, 0,\n",
       "          0, 0, 0, 0, 0, 0, 0, 0, 0, 0, 0, 0, 0, 0, 0, 0, 0, 0, 0, 0, 0, 0, 0, 0,\n",
       "          0, 0, 0, 0, 0, 0, 0, 0, 0, 0, 0, 0, 0, 0, 0, 0, 0, 0, 0, 0, 0, 0, 0, 0,\n",
       "          0, 0, 0, 0, 0, 0, 0, 0]),\n",
       "  'atac': tensor([0, 0, 0, 0, 0, 0, 0, 0, 0, 0, 0, 0, 0, 0, 0, 0, 0, 0, 0, 0, 0, 0, 0, 0,\n",
       "          0, 0, 0, 0, 0, 0, 0, 0, 0, 0, 0, 0, 0, 0, 0, 0, 0, 0, 0, 0, 0, 0, 0, 0,\n",
       "          0, 0, 0, 0, 0, 0, 0, 0, 0, 0, 0, 0, 0, 0, 0, 0, 0, 0, 0, 0, 0, 0, 0, 0,\n",
       "          0, 0, 0, 0, 0, 0, 0, 0, 0, 0, 0, 0, 0, 0, 0, 0, 0, 0, 0, 0, 0, 0, 0, 0,\n",
       "          0, 0, 0, 0, 0, 0, 0, 0, 0, 0, 0, 0, 0, 0, 0, 0, 0, 0, 0, 0, 0, 0, 0, 0,\n",
       "          0, 0, 0, 0, 0, 0, 0, 0])},\n",
       " {'rna': tensor([-1, -1, -1, -1, -1, -1, -1, -1, -1, -1, -1, -1, -1, -1, -1, -1, -1, -1,\n",
       "          -1, -1, -1, -1, -1, -1, -1, -1, -1, -1, -1, -1, -1, -1, -1, -1, -1, -1,\n",
       "          -1, -1, -1, -1, -1, -1, -1, -1, -1, -1, -1, -1, -1, -1, -1, -1, -1, -1,\n",
       "          -1, -1, -1, -1, -1, -1, -1, -1, -1, -1, -1, -1, -1, -1, -1, -1, -1, -1,\n",
       "          -1, -1, -1, -1, -1, -1, -1, -1, -1, -1, -1, -1, -1, -1, -1, -1, -1, -1,\n",
       "          -1, -1, -1, -1, -1, -1, -1, -1, -1, -1, -1, -1, -1, -1, -1, -1, -1, -1,\n",
       "          -1, -1, -1, -1, -1, -1, -1, -1, -1, -1, -1, -1, -1, -1, -1, -1, -1, -1,\n",
       "          -1, -1]),\n",
       "  'atac': tensor([-1, -1, -1, -1, -1, -1, -1, -1, -1, -1, -1, -1, -1, -1, -1, -1, -1, -1,\n",
       "          -1, -1, -1, -1, -1, -1, -1, -1, -1, -1, -1, -1, -1, -1, -1, -1, -1, -1,\n",
       "          -1, -1, -1, -1, -1, -1, -1, -1, -1, -1, -1, -1, -1, -1, -1, -1, -1, -1,\n",
       "          -1, -1, -1, -1, -1, -1, -1, -1, -1, -1, -1, -1, -1, -1, -1, -1, -1, -1,\n",
       "          -1, -1, -1, -1, -1, -1, -1, -1, -1, -1, -1, -1, -1, -1, -1, -1, -1, -1,\n",
       "          -1, -1, -1, -1, -1, -1, -1, -1, -1, -1, -1, -1, -1, -1, -1, -1, -1, -1,\n",
       "          -1, -1, -1, -1, -1, -1, -1, -1, -1, -1, -1, -1, -1, -1, -1, -1, -1, -1,\n",
       "          -1, -1])},\n",
       " {'rna': tensor([1., 1., 1., 1., 1., 1., 1., 1., 1., 1., 1., 1., 1., 1., 1., 1., 1., 1.,\n",
       "          1., 1., 1., 1., 1., 1., 1., 1., 1., 1., 1., 1., 1., 1., 1., 1., 1., 1.,\n",
       "          1., 1., 1., 1., 1., 1., 1., 1., 1., 1., 1., 1., 1., 1., 1., 1., 1., 1.,\n",
       "          1., 1., 1., 1., 1., 1., 1., 1., 1., 1., 1., 1., 1., 1., 1., 1., 1., 1.,\n",
       "          1., 1., 1., 1., 1., 1., 1., 1., 1., 1., 1., 1., 1., 1., 1., 1., 1., 1.,\n",
       "          1., 1., 1., 1., 1., 1., 1., 1., 1., 1., 1., 1., 1., 1., 1., 1., 1., 1.,\n",
       "          1., 1., 1., 1., 1., 1., 1., 1., 1., 1., 1., 1., 1., 1., 1., 1., 1., 1.,\n",
       "          1., 1.]),\n",
       "  'atac': tensor([1., 1., 1., 1., 1., 1., 1., 1., 1., 1., 1., 1., 1., 1., 1., 1., 1., 1.,\n",
       "          1., 1., 1., 1., 1., 1., 1., 1., 1., 1., 1., 1., 1., 1., 1., 1., 1., 1.,\n",
       "          1., 1., 1., 1., 1., 1., 1., 1., 1., 1., 1., 1., 1., 1., 1., 1., 1., 1.,\n",
       "          1., 1., 1., 1., 1., 1., 1., 1., 1., 1., 1., 1., 1., 1., 1., 1., 1., 1.,\n",
       "          1., 1., 1., 1., 1., 1., 1., 1., 1., 1., 1., 1., 1., 1., 1., 1., 1., 1.,\n",
       "          1., 1., 1., 1., 1., 1., 1., 1., 1., 1., 1., 1., 1., 1., 1., 1., 1., 1.,\n",
       "          1., 1., 1., 1., 1., 1., 1., 1., 1., 1., 1., 1., 1., 1., 1., 1., 1., 1.,\n",
       "          1., 1.])},\n",
       " {'rna': tensor([0, 0, 0, 0, 0, 0, 0, 0, 0, 0, 0, 0, 0, 0, 0, 0, 0, 0, 0, 0, 0, 0, 0, 0,\n",
       "          0, 0, 0, 0, 0, 0, 0, 0, 0, 0, 0, 0, 0, 0, 0, 0, 0, 0, 0, 0, 0, 0, 0, 0,\n",
       "          0, 0, 0, 0, 0, 0, 0, 0, 0, 0, 0, 0, 0, 0, 0, 0, 0, 0, 0, 0, 0, 0, 0, 0,\n",
       "          0, 0, 0, 0, 0, 0, 0, 0, 0, 0, 0, 0, 0, 0, 0, 0, 0, 0, 0, 0, 0, 0, 0, 0,\n",
       "          0, 0, 0, 0, 0, 0, 0, 0, 0, 0, 0, 0, 0, 0, 0, 0, 0, 0, 0, 0, 0, 0, 0, 0,\n",
       "          0, 0, 0, 0, 0, 0, 0, 0]),\n",
       "  'atac': tensor([1, 1, 1, 1, 1, 1, 1, 1, 1, 1, 1, 1, 1, 1, 1, 1, 1, 1, 1, 1, 1, 1, 1, 1,\n",
       "          1, 1, 1, 1, 1, 1, 1, 1, 1, 1, 1, 1, 1, 1, 1, 1, 1, 1, 1, 1, 1, 1, 1, 1,\n",
       "          1, 1, 1, 1, 1, 1, 1, 1, 1, 1, 1, 1, 1, 1, 1, 1, 1, 1, 1, 1, 1, 1, 1, 1,\n",
       "          1, 1, 1, 1, 1, 1, 1, 1, 1, 1, 1, 1, 1, 1, 1, 1, 1, 1, 1, 1, 1, 1, 1, 1,\n",
       "          1, 1, 1, 1, 1, 1, 1, 1, 1, 1, 1, 1, 1, 1, 1, 1, 1, 1, 1, 1, 1, 1, 1, 1,\n",
       "          1, 1, 1, 1, 1, 1, 1, 1])},\n",
       " tensor([[ 28191,  28191,  28191,  ..., 165704, 179704,  66235],\n",
       "         [142910, 142912, 142914,  ..., 165704, 179704,  66235]]),\n",
       " tensor([1., 1., 1.,  ..., 1., 1., 1.]),\n",
       " tensor([1., 1., 1.,  ..., 1., 1., 1.]))"
      ]
     },
     "execution_count": 109,
     "metadata": {},
     "output_type": "execute_result"
    }
   ],
   "source": [
    "\n",
    "DataTensor=trainer.format_data(data_list)\n",
    "DataTensor"
   ]
  },
  {
   "cell_type": "code",
   "execution_count": null,
   "metadata": {},
   "outputs": [],
   "source": [
    "# print(trainer.eidx)\n",
    "# trainer.eidx=eidx\n",
    "# trainer.ewt=ewt\n",
    "# trainer.esgn=esgn\n",
    "# print(trainer.enorm)"
   ]
  },
  {
   "cell_type": "code",
   "execution_count": null,
   "metadata": {},
   "outputs": [],
   "source": [
    "import os\n",
    "print(os.getcwd())\n",
    "os.chdir('/Users/meiqiliu/PycharmProjects/GLUE')\n"
   ]
  },
  {
   "cell_type": "code",
   "execution_count": 113,
   "metadata": {},
   "outputs": [
    {
     "data": {
      "text/plain": [
       "tensor([[ 28191,  28191,  28191,  ..., 165704, 179704,  66235],\n",
       "        [142910, 142912, 142914,  ..., 165704, 179704,  66235]])"
      ]
     },
     "execution_count": 113,
     "metadata": {},
     "output_type": "execute_result"
    }
   ],
   "source": [
    "x2, xrep2, xbch2, xlbl2, xdwt2, xflag2, eidx2, ewt2, esgn2 = DataTensor\n",
    "eidx2[0]\n",
    "eidx2[1]\n",
    "\n",
    "eidx2"
   ]
  },
  {
   "cell_type": "code",
   "execution_count": 115,
   "metadata": {},
   "outputs": [
    {
     "data": {
      "text/plain": [
       "tensor([ 28191,  28191,  28191,  ..., 165704, 179704,  66235])"
      ]
     },
     "execution_count": 115,
     "metadata": {},
     "output_type": "execute_result"
    }
   ],
   "source": [
    "a,b=eidx2\n",
    "a"
   ]
  },
  {
   "cell_type": "code",
   "execution_count": 110,
   "metadata": {},
   "outputs": [
    {
     "data": {
      "text/plain": [
       "{'dsc_loss': tensor(0.6945, grad_fn=<DivBackward0>),\n",
       " 'vae_loss': tensor(0.2606, grad_fn=<AddBackward0>),\n",
       " 'gen_loss': tensor(0.2259, grad_fn=<SubBackward0>),\n",
       " 'g_nll': tensor(0.2377, grad_fn=<DivBackward0>),\n",
       " 'g_kl': tensor(0.0001, grad_fn=<DivBackward0>),\n",
       " 'g_elbo': tensor(0.2378, grad_fn=<AddBackward0>),\n",
       " 'x_rna_nll': tensor(0.2004, grad_fn=<NegBackward0>),\n",
       " 'x_rna_kl': tensor(0.0121, grad_fn=<DivBackward0>),\n",
       " 'x_rna_elbo': tensor(0.2125, grad_fn=<AddBackward0>),\n",
       " 'x_atac_nll': tensor(0.0379, grad_fn=<NegBackward0>),\n",
       " 'x_atac_kl': tensor(0.0007, grad_fn=<DivBackward0>),\n",
       " 'x_atac_elbo': tensor(0.0386, grad_fn=<AddBackward0>)}"
      ]
     },
     "execution_count": 110,
     "metadata": {},
     "output_type": "execute_result"
    }
   ],
   "source": [
    "trainer.compute_losses(DataTensor,2) #function with loss functions "
   ]
  },
  {
   "cell_type": "code",
   "execution_count": null,
   "metadata": {},
   "outputs": [],
   "source": []
  }
 ],
 "metadata": {
  "kernelspec": {
   "display_name": "fa_base2",
   "language": "python",
   "name": "fa_base2"
  },
  "language_info": {
   "codemirror_mode": {
    "name": "ipython",
    "version": 3
   },
   "file_extension": ".py",
   "mimetype": "text/x-python",
   "name": "python",
   "nbconvert_exporter": "python",
   "pygments_lexer": "ipython3",
   "version": "3.8.16"
  }
 },
 "nbformat": 4,
 "nbformat_minor": 1
}
